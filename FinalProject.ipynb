{
 "cells": [
  {
   "cell_type": "code",
   "execution_count": 2,
   "id": "76b6c799",
   "metadata": {},
   "outputs": [],
   "source": [
    "import sqlite3\n",
    "import pandas as pd\n",
    "import numpy as np\n",
    "import matplotlib.pyplot as plt"
   ]
  },
  {
   "cell_type": "code",
   "execution_count": 3,
   "id": "7bacd638",
   "metadata": {},
   "outputs": [],
   "source": [
    "file_path = r'C:/Users/anush/OneDrive/Documents/HAP880/mimic-iv-1.0/mimic4_1.db'\n",
    "conn = sqlite3.connect(file_path)"
   ]
  },
  {
   "cell_type": "code",
   "execution_count": 4,
   "id": "30b65af4",
   "metadata": {},
   "outputs": [],
   "source": [
    "adms = pd.read_sql(\"select * from admissions\", conn )\n",
    "icustays = pd.read_sql(\"select * from icustays \", conn )\n",
    "patients = pd.read_sql(\"select * from patients\", conn )"
   ]
  },
  {
   "cell_type": "code",
   "execution_count": 5,
   "id": "7b0359a1",
   "metadata": {},
   "outputs": [],
   "source": [
    "import time\n",
    "adms['los_hrs'] = adms.apply(lambda r: (time.mktime(time.strptime(r['dischtime'],'%Y-%m-%d %H:%M:%S')) - \n",
    "                 time.mktime(time.strptime(r['admittime'],'%Y-%m-%d %H:%M:%S')))/3600.0, axis=1)"
   ]
  },
  {
   "cell_type": "code",
   "execution_count": 28,
   "id": "ad1da23a",
   "metadata": {},
   "outputs": [],
   "source": [
    "adms = adms[adms['discharge_location']!=\"\"]"
   ]
  },
  {
   "cell_type": "code",
   "execution_count": 7,
   "id": "389642ef",
   "metadata": {},
   "outputs": [],
   "source": [
    "p = {'HOME HEALTH CARE': 0, 'HOME': 1, 'SKILLED NURSING FACILITY': 2, \"DIED\":3, 'REHAB': 4, 'CHRONIC/LONG TERM ACUTE CARE': 5, 'HOSPICE': 6, 'PSYCH FACILITY':7, 'AGAINST ADVICE':8,'ACUTE HOSPITAL':9,'OTHER FACILITY':10, 'ASSISTED LIVING':11, 'HEALTHCARE FACILITY':12}\n",
    "adms['discharge_location'] = adms['discharge_location'].map(p)\n",
    "d = {'EW EMER.': 0, 'URGENT': 1, 'OBSERVATION ADMIT': 2, \"DIED\":3, 'SURGICAL SAME DAY ADMISSION': 4, 'DIRECT EMER.': 5, 'ELECTIVE': 6, 'EU OBSERVATION':7, 'DIRECT OBSERVATION':8,'AMBULATORY OBSERVATION':9}\n",
    "adms['admission_type'] = adms['admission_type'].map(d)\n",
    "e = {'EMERGENCY ROOM': 0, 'PHYSICIAN REFERRAL': 1, 'TRANSFER FROM HOSPITAL': 2, \"WALK-IN/SELF REFERRAL\":3, 'TRANSFER FROM SKILLED NURSING FACILITY': 4, 'PROCEDURE SITE': 5, 'CLINIC REFERRAL': 6, 'PACU':7, 'INFORMATION NOT AVAILABLE':8,'AMBULATORY SURGERY TRANSFER':9,'INTERNAL TRANSFER TO OR FROM PSYCH':10}\n",
    "adms['admission_location'] = adms['admission_location'].map(e)\n",
    "i = {'Medical Intensive Care Unit (MICU)': 0, 'Medical/Surgical Intensive Care Unit (MICU/SICU)': 1, 'Cardiac Vascular Intensive Care Unit (CVICU)': 2, \"Surgical Intensive Care Unit (SICU)\":3, 'Trauma SICU (TSICU)': 4, 'Coronary Care Unit (CCU)': 5, 'Neuro Surgical Intensive Care Unit (Neuro SICU)': 6, 'Neuro Intermediate':7, 'Neuro Stepdown':8}\n",
    "icustays['first_careunit'] = icustays['first_careunit'].map(i)\n",
    "l = {'Medical Intensive Care Unit (MICU)': 0, 'Medical/Surgical Intensive Care Unit (MICU/SICU)': 1, 'Cardiac Vascular Intensive Care Unit (CVICU)': 2, \"Surgical Intensive Care Unit (SICU)\":3, 'Coronary Care Unit (CCU)': 4, 'Trauma SICU (TSICU)': 5, 'Neuro Intermediate':6, 'Neuro Stepdown':7,'Neuro Surgical Intensive Care Unit (Neuro SICU)':8}\n",
    "icustays['last_careunit'] = icustays['last_careunit'].map(l)\n",
    "m = {'SINGLE': 0, 'MARRIED': 1, 'WIDOWED': 2, \"DIVORCED\":3, '':4}\n",
    "adms['marital_status'] = adms['marital_status'].map(m)\n",
    "j = {'Other': 0, 'Medicare': 1, 'Medicaid':2}\n",
    "adms['insurance'] = adms['insurance'].map(j)\n",
    "g = {'M': 0, 'F': 1}\n",
    "patients['gender'] = patients['gender'].map(g)\n",
    "r = {'WHITE': 0, 'BLACK/AFRICAN AMERICAN': 1, 'UNKNOWN': 2, \"OTHER\":3, 'HISPANIC/LATINO':4,'ASIAN':5,'UNABLE TO OBTAIN':6,'AMERICAN INDIAN/ALASKA NATIVE':7}\n",
    "adms['ethnicity'] = adms['ethnicity'].map(r)"
   ]
  },
  {
   "cell_type": "code",
   "execution_count": 29,
   "id": "a2a1959a",
   "metadata": {},
   "outputs": [
    {
     "data": {
      "text/plain": [
       "<AxesSubplot:>"
      ]
     },
     "execution_count": 29,
     "metadata": {},
     "output_type": "execute_result"
    },
    {
     "data": {
      "image/png": "[encoded data removed]",
      "text/plain": [
       "<Figure size 432x288 with 1 Axes>"
      ]
     },
     "metadata": {
      "needs_background": "light"
     },
     "output_type": "display_data"
    }
   ],
   "source": [
    "adms['discharge_location'].value_counts().plot(kind='bar')"
   ]
  },
  {
   "cell_type": "code",
   "execution_count": 8,
   "id": "847de071",
   "metadata": {},
   "outputs": [
    {
     "data": {
      "text/plain": [
       "0         23\n",
       "1          0\n",
       "2          0\n",
       "3          0\n",
       "4          0\n",
       "          ..\n",
       "382273    29\n",
       "382274    52\n",
       "382275    63\n",
       "382276    33\n",
       "382277    20\n",
       "Name: anchor_age, Length: 382278, dtype: int32"
      ]
     },
     "execution_count": 8,
     "metadata": {},
     "output_type": "execute_result"
    }
   ],
   "source": [
    "patients['anchor_age'].astype(int)"
   ]
  },
  {
   "cell_type": "code",
   "execution_count": 9,
   "id": "86932688",
   "metadata": {},
   "outputs": [],
   "source": [
    "conditions = [\n",
    "    (patients['anchor_age'] >= '0') & (patients['anchor_age'] < '20'),\n",
    "    (patients['anchor_age'] >= '20') & (patients['anchor_age'] < '40'),\n",
    "    (patients['anchor_age'] >= '40') & (patients['anchor_age'] < '59'),\n",
    "    (patients['anchor_age'] >= '60') &  (patients['anchor_age'] < '79'),\n",
    "    (patients['anchor_age'] > '80')\n",
    "]\n",
    "\n",
    "values = ['0', '1', '2', '3','4']\n",
    "\n",
    "patients['Age Group'] = np.select(conditions, values)"
   ]
  },
  {
   "cell_type": "code",
   "execution_count": 10,
   "id": "210bb9b8",
   "metadata": {},
   "outputs": [],
   "source": [
    "ids = pd.read_sql('select distinct hadm_id from inputevents',conn)['hadm_id'].values"
   ]
  },
  {
   "cell_type": "code",
   "execution_count": 11,
   "id": "d6da417e",
   "metadata": {},
   "outputs": [],
   "source": [
    "def create_dummies(categorical):\n",
    "    item_id = categorical['itemid'].iloc[0]\n",
    "    dummies = pd.get_dummies(categorical['itemid']).sum()  \n",
    "    dummies.index = [str(item_id)+\"_\"+str(col) for col in dummies.index]\n",
    "    return dummies\n"
   ]
  },
  {
   "cell_type": "code",
   "execution_count": 12,
   "id": "a688ff20",
   "metadata": {},
   "outputs": [],
   "source": [
    "def test_func(labs):\n",
    "#     print('====')\n",
    "    labs['totalamount'] = labs['totalamount'].apply(pd.to_numeric)\n",
    "    labs_num = labs[labs['totalamount'].notna()]\n",
    "    labs_cat = labs[labs['totalamount'].isna()]\n",
    "#     print(labs.shape,labs_num.shape, labs_cat.shape) # to debug divide between cat and num\n",
    "#     print(t)\n",
    "    if labs_num.shape[0]>0:\n",
    "    \n",
    "        gr = labs_num.groupby('itemid')\n",
    "        d_max = pd.DataFrame(gr['totalamount'].max()).T\n",
    "        #d_mean  = pd.DataFrame(gr['totalamount'].mean()).T\n",
    "        d_min = pd.DataFrame(gr['totalamount'].min()).T\n",
    "        #d_sd = pd.DataFrame(gr['totalamount'].std()).T\n",
    "        #d_s = pd.DataFrame(gr['totalamount'].count()).T\n",
    "       # d_sd = d_sd.fillna('stdna')\n",
    "        \n",
    "        d_max.columns = [str(col)+\"_max\" for col in d_max.columns]\n",
    "        #d_mean.columns = [str(col)+\"_mean\" for col in d_mean.columns]\n",
    "        d_min.columns = [str(col)+\"_min\" for col in d_min.columns]\n",
    "        #d_sd.columns = [str(col)+\"_std\" for col in d_sd.columns]\n",
    "        #d_num = pd.concat([d_max,d_mean,d_min,d_sd,d_s], axis=1)\n",
    "        d_num = pd.concat([d_max,d_min], axis=1)\n",
    "        #d_sds.append(d_num)\n",
    "\n",
    "\n",
    "    if labs_cat.shape[0] > 0:\n",
    "        labs_cat_gr = labs_cat.groupby('itemid')\n",
    "        te = labs_cat_gr.apply(create_dummies)\n",
    "        d_cat = pd.DataFrame(te).T\n",
    "        if len(d_cat.columns[0])==2:\n",
    "            d_cat.columns = d_cat.columns.droplevel()           \n",
    "        else:\n",
    "            d_cat = d_cat.T\n",
    "        d_cat.index = ['totalamount']\n",
    "\n",
    "    if labs_cat.shape[0]>0 and labs_num.shape[0]>0:\n",
    "        d = pd.concat([d_cat,d_num], axis=1)\n",
    "    elif labs_cat.shape[0]>0:\n",
    "        d = d_cat\n",
    "    elif labs_num.shape[0]>0:\n",
    "        d = d_num\n",
    "\n",
    "    d['weight'] =labs['patientweight'].iloc[0]\n",
    "    \n",
    "    l = labs['hadm_id'][0]\n",
    "    d['admission_location']= adms[adms['hadm_id']==l].iloc[0][6]\n",
    "    d['discharge_location']= adms[adms['hadm_id']==l].iloc[0][7]\n",
    "    d['admission_type']= adms[adms['hadm_id']==l].iloc[0][5]\n",
    "    d['admission_type']= adms[adms['hadm_id']==l].iloc[0][5]\n",
    "    d['insurance']= adms[adms['hadm_id']==l].iloc[0][8]\n",
    "    #d['language']= adms[adms['hadm_id']==l].iloc[0][9]\n",
    "    d['marital_status']= adms[adms['hadm_id']==l].iloc[0][10]\n",
    "    d['ethnicity']= adms[adms['hadm_id']==l].iloc[0][11]\n",
    "    d['los_hrs']= adms[adms['hadm_id']==l].iloc[0][15]\n",
    "   # d['first_careunit']= icustays[icustays['hadm_id']==l].iloc[0][3]\n",
    "   # d['last_careunit']= icustays[icustays['hadm_id']==l].iloc[0][4]\n",
    "    \n",
    "    m = labs['subject_id'][0]\n",
    "    d['gender']= patients[patients['subject_id']==m].iloc[0][1]\n",
    "    d['age_group']= patients[patients['subject_id']==m].iloc[0][6]\n",
    "    \n",
    "   # print(d['admission_location'])\n",
    "    \n",
    "    #d['admission_location']= adms['admission_location'].iloc[0]\n",
    "    #d['discharge_location']=adms['discharge_location'].iloc[0]\n",
    "   # d['admission_type']=adms['admission_type'].iloc[0]\n",
    "   # d['insurance']=adms['insurance'].iloc[0]\n",
    "    #print(details['insurance'].iloc[0])\n",
    "    #d['first_careunit']=icustays['first_careunit'].iloc[0]\n",
    "    #d['last_careunit']=icustays['last_careunit'].iloc[0]\n",
    "   # d['marital_status']=adms['marital_status'].iloc[0]\n",
    "    #d['insurance']=adms['insurance'].iloc[0]\n",
    "    #d['gender']=patients['gender'].iloc[0]\n",
    "    #d['ethnicity']=adms['ethnicity'].iloc[0]\n",
    "    d['hadm_id']=labs['hadm_id'].iloc[0]\n",
    "    \n",
    "    return d\n"
   ]
  },
  {
   "cell_type": "code",
   "execution_count": 13,
   "id": "cce3dd0e",
   "metadata": {},
   "outputs": [],
   "source": [
    "a = []\n",
    "for id in ids:\n",
    "    aa = pd.read_sql(\"select * from inputevents where hadm_id =  \"+str(id), conn)\n",
    "    ss = test_func(aa)\n",
    "    a.append(ss)    \n",
    "    "
   ]
  },
  {
   "cell_type": "code",
   "execution_count": 16,
   "id": "57888679",
   "metadata": {},
   "outputs": [],
   "source": [
    "df = pd.concat(a)\n"
   ]
  },
  {
   "cell_type": "code",
   "execution_count": 26,
   "id": "dd889056",
   "metadata": {},
   "outputs": [],
   "source": [
    "df = df.set_index('hadm_id')"
   ]
  },
  {
   "cell_type": "code",
   "execution_count": 36,
   "id": "26596024",
   "metadata": {},
   "outputs": [],
   "source": [
    "df = df.reset_index()"
   ]
  },
  {
   "cell_type": "code",
   "execution_count": 12,
   "id": "66953259",
   "metadata": {},
   "outputs": [],
   "source": [
    "#df.reset_index(level =['hadm_id'], inplace = True)"
   ]
  },
  {
   "cell_type": "code",
   "execution_count": null,
   "id": "ddd300aa",
   "metadata": {},
   "outputs": [],
   "source": [
    "#df[df['hadm_id']=='20000094'].columns.tolist()"
   ]
  },
  {
   "cell_type": "code",
   "execution_count": 328,
   "id": "b882bc31",
   "metadata": {},
   "outputs": [],
   "source": [
    "#pd.read_sql(\"select  itemid, count(*)  from inputevents where hadm_id = '20000094' group by itemid\",conn)"
   ]
  },
  {
   "cell_type": "code",
   "execution_count": 329,
   "id": "75256da1",
   "metadata": {},
   "outputs": [],
   "source": [
    "#pd.read_sql(\"select  *  from inputevents where hadm_id = '20000094' and itemid = '226452'\",conn)"
   ]
  },
  {
   "cell_type": "code",
   "execution_count": 37,
   "id": "21dbef21",
   "metadata": {},
   "outputs": [],
   "source": [
    "final = df.fillna(0)"
   ]
  },
  {
   "cell_type": "code",
   "execution_count": 38,
   "id": "ea547eea",
   "metadata": {},
   "outputs": [],
   "source": [
    "y=final['discharge_location']"
   ]
  },
  {
   "cell_type": "code",
   "execution_count": 40,
   "id": "800386fd",
   "metadata": {},
   "outputs": [],
   "source": [
    "cols=list(final.columns)"
   ]
  },
  {
   "cell_type": "code",
   "execution_count": 42,
   "id": "f81d4ca1",
   "metadata": {},
   "outputs": [],
   "source": [
    "cols.remove('discharge_location')\n",
    "cols.remove('hadm_id')"
   ]
  },
  {
   "cell_type": "code",
   "execution_count": 43,
   "id": "e1dec578",
   "metadata": {},
   "outputs": [],
   "source": [
    "X=final[cols]"
   ]
  },
  {
   "cell_type": "code",
   "execution_count": 44,
   "id": "07803fa2",
   "metadata": {},
   "outputs": [],
   "source": [
    "import pandas as pd\n",
    "from sklearn import tree\n",
    "import numpy as np\n",
    "import matplotlib.pyplot as plt\n",
    "from plotnine import *\n",
    "import os\n",
    "import io\n",
    "from IPython.display import Image  \n",
    "from six import StringIO  \n",
    "import pydotplus\n",
    "from sklearn.feature_extraction.text import CountVectorizer\n",
    "from sklearn.naive_bayes import MultinomialNB\n",
    "from sklearn.naive_bayes import GaussianNB\n",
    "from sklearn import tree\n",
    "from sklearn.model_selection import train_test_split\n",
    "from sklearn import svm\n",
    "from sklearn import metrics\n",
    "from sklearn.model_selection import KFold,cross_val_score, cross_val_predict, StratifiedKFold\n",
    "from sklearn.ensemble import RandomForestClassifier\n",
    "from sklearn.neighbors import KNeighborsClassifier\n",
    "from sklearn.metrics import classification_report,confusion_matrix\n",
    "from sklearn.feature_selection import SelectKBest\n",
    "import seaborn as sns\n",
    "from plotnine import ggplot, aes, geom_bar, geom_col, geom_point\n",
    "import plotnine as p9"
   ]
  },
  {
   "cell_type": "code",
   "execution_count": 50,
   "id": "f46ac566",
   "metadata": {},
   "outputs": [],
   "source": [
    "X_train, X_test, y_train, y_test = train_test_split(X, y, test_size=0.25, random_state = 200)"
   ]
  },
  {
   "cell_type": "code",
   "execution_count": 51,
   "id": "14445da1",
   "metadata": {},
   "outputs": [
    {
     "name": "stdout",
     "output_type": "stream",
     "text": [
      "<class 'pandas.core.frame.DataFrame'>\n",
      "RangeIndex: 68948 entries, 0 to 68947\n",
      "Columns: 699 entries, 221385_221385 to 226875_min\n",
      "dtypes: float64(692), int64(5), object(2)\n",
      "memory usage: 367.7+ MB\n"
     ]
    }
   ],
   "source": [
    "X.info()"
   ]
  },
  {
   "cell_type": "code",
   "execution_count": 52,
   "id": "eebc9443",
   "metadata": {},
   "outputs": [],
   "source": [
    "from sklearn import tree\n",
    "clf_tree = tree.DecisionTreeClassifier()\n",
    "clf_tree = clf_tree.fit(X_train, y_train)\n",
    "y_pred_tree = clf_tree.predict(X_test)"
   ]
  },
  {
   "cell_type": "code",
   "execution_count": 53,
   "id": "42be822a",
   "metadata": {},
   "outputs": [
    {
     "name": "stdout",
     "output_type": "stream",
     "text": [
      "Accuracy for single train test split for decision tree: 0.4072054301792655\n",
      "              precision    recall  f1-score   support\n",
      "\n",
      "         0.0       0.43      0.43      0.43      4585\n",
      "         1.0       0.54      0.53      0.53      4287\n",
      "         2.0       0.33      0.34      0.33      3167\n",
      "         3.0       0.64      0.60      0.62      1924\n",
      "         4.0       0.18      0.17      0.17      1334\n",
      "         5.0       0.22      0.20      0.21      1078\n",
      "         6.0       0.04      0.04      0.04       304\n",
      "         7.0       0.12      0.11      0.12       185\n",
      "         8.0       0.10      0.12      0.11       147\n",
      "         9.0       0.05      0.04      0.05       140\n",
      "        10.0       0.01      0.02      0.01        66\n",
      "        11.0       0.00      0.00      0.00        19\n",
      "        12.0       0.00      0.00      0.00         1\n",
      "\n",
      "    accuracy                           0.41     17237\n",
      "   macro avg       0.20      0.20      0.20     17237\n",
      "weighted avg       0.41      0.41      0.41     17237\n",
      "\n"
     ]
    }
   ],
   "source": [
    "print(\"Accuracy for single train test split for decision tree:\",metrics.accuracy_score(y_test, y_pred_tree))\n",
    "print(metrics.classification_report(y_test, y_pred_tree))"
   ]
  },
  {
   "cell_type": "code",
   "execution_count": 59,
   "id": "bc70d52a",
   "metadata": {},
   "outputs": [
    {
     "name": "stdout",
     "output_type": "stream",
     "text": [
      "Accuracy for random forest: 0.4544294250739688\n",
      "              precision    recall  f1-score   support\n",
      "\n",
      "         0.0       0.41      0.55      0.47      4585\n",
      "         1.0       0.51      0.67      0.58      4287\n",
      "         2.0       0.35      0.29      0.32      3167\n",
      "         3.0       0.67      0.61      0.64      1924\n",
      "         4.0       0.32      0.13      0.18      1334\n",
      "         5.0       0.35      0.16      0.22      1078\n",
      "         6.0       0.00      0.00      0.00       304\n",
      "         7.0       0.40      0.01      0.02       185\n",
      "         8.0       0.17      0.01      0.01       147\n",
      "         9.0       0.00      0.00      0.00       140\n",
      "        10.0       0.00      0.00      0.00        66\n",
      "        11.0       0.00      0.00      0.00        19\n",
      "        12.0       0.00      0.00      0.00         1\n",
      "\n",
      "    accuracy                           0.45     17237\n",
      "   macro avg       0.24      0.19      0.19     17237\n",
      "weighted avg       0.43      0.45      0.43     17237\n",
      "\n"
     ]
    },
    {
     "name": "stderr",
     "output_type": "stream",
     "text": [
      "C:\\Users\\anush\\anaconda3\\lib\\site-packages\\sklearn\\metrics\\_classification.py:1318: UndefinedMetricWarning: Precision and F-score are ill-defined and being set to 0.0 in labels with no predicted samples. Use `zero_division` parameter to control this behavior.\n",
      "C:\\Users\\anush\\anaconda3\\lib\\site-packages\\sklearn\\metrics\\_classification.py:1318: UndefinedMetricWarning: Precision and F-score are ill-defined and being set to 0.0 in labels with no predicted samples. Use `zero_division` parameter to control this behavior.\n",
      "C:\\Users\\anush\\anaconda3\\lib\\site-packages\\sklearn\\metrics\\_classification.py:1318: UndefinedMetricWarning: Precision and F-score are ill-defined and being set to 0.0 in labels with no predicted samples. Use `zero_division` parameter to control this behavior.\n"
     ]
    }
   ],
   "source": [
    "clf_random =  RandomForestClassifier(n_estimators=10, \n",
    "                                     max_features=10,\n",
    "                                     min_samples_split=2,\n",
    "                                     criterion=\"entropy\",\n",
    "                                     random_state=10,\n",
    "                                     n_jobs=-1)\n",
    "clf_random = clf_random.fit(X_train,y_train)\n",
    "y_pred_random = clf_random.predict(X_test)\n",
    "print(\"Accuracy for random forest:\",metrics.accuracy_score(y_test, y_pred_random))\n",
    "print(metrics.classification_report(y_test, y_pred_random))"
   ]
  },
  {
   "cell_type": "code",
   "execution_count": 60,
   "id": "ae62dc27",
   "metadata": {},
   "outputs": [
    {
     "name": "stdout",
     "output_type": "stream",
     "text": [
      "Accuracy for KNN at K =10: 0.38544990427568604\n",
      "              precision    recall  f1-score   support\n",
      "\n",
      "         0.0       0.37      0.52      0.43      4585\n",
      "         1.0       0.42      0.64      0.51      4287\n",
      "         2.0       0.26      0.21      0.23      3167\n",
      "         3.0       0.59      0.35      0.43      1924\n",
      "         4.0       0.27      0.09      0.14      1334\n",
      "         5.0       0.30      0.08      0.13      1078\n",
      "         6.0       0.20      0.01      0.02       304\n",
      "         7.0       0.00      0.00      0.00       185\n",
      "         8.0       0.50      0.01      0.01       147\n",
      "         9.0       0.00      0.00      0.00       140\n",
      "        10.0       0.00      0.00      0.00        66\n",
      "        11.0       0.00      0.00      0.00        19\n",
      "        12.0       0.00      0.00      0.00         1\n",
      "\n",
      "    accuracy                           0.39     17237\n",
      "   macro avg       0.22      0.15      0.15     17237\n",
      "weighted avg       0.37      0.39      0.35     17237\n",
      "\n"
     ]
    },
    {
     "name": "stderr",
     "output_type": "stream",
     "text": [
      "C:\\Users\\anush\\anaconda3\\lib\\site-packages\\sklearn\\metrics\\_classification.py:1318: UndefinedMetricWarning: Precision and F-score are ill-defined and being set to 0.0 in labels with no predicted samples. Use `zero_division` parameter to control this behavior.\n",
      "C:\\Users\\anush\\anaconda3\\lib\\site-packages\\sklearn\\metrics\\_classification.py:1318: UndefinedMetricWarning: Precision and F-score are ill-defined and being set to 0.0 in labels with no predicted samples. Use `zero_division` parameter to control this behavior.\n",
      "C:\\Users\\anush\\anaconda3\\lib\\site-packages\\sklearn\\metrics\\_classification.py:1318: UndefinedMetricWarning: Precision and F-score are ill-defined and being set to 0.0 in labels with no predicted samples. Use `zero_division` parameter to control this behavior.\n"
     ]
    }
   ],
   "source": [
    "from sklearn.neighbors import KNeighborsClassifier\n",
    "from sklearn.metrics import classification_report,confusion_matrix\n",
    "from sklearn.feature_selection import SelectKBest\n",
    "knn = KNeighborsClassifier(n_neighbors=10)\n",
    "knn = knn.fit(X_train,y_train)\n",
    "pred_knn = knn.predict(X_test)\n",
    "print(\"Accuracy for KNN at K =10:\",metrics.accuracy_score(y_test, pred_knn))\n",
    "print(metrics.classification_report(y_test, pred_knn))"
   ]
  },
  {
   "cell_type": "code",
   "execution_count": 61,
   "id": "a3ea2e9c",
   "metadata": {},
   "outputs": [
    {
     "name": "stdout",
     "output_type": "stream",
     "text": [
      "[[2381 1489  531   88   58   35    1    2    0    0    0    0    0]\n",
      " [1110 2733  319   43   62   15    1    4    0    0    0    0    0]\n",
      " [1386  910  650  101   76   43    1    0    0    0    0    0    0]\n",
      " [ 487  308  325  664   60   75    5    0    0    0    0    0    0]\n",
      " [ 443  421  247   63  121   35    3    0    1    0    0    0    0]\n",
      " [ 350  196  259  123   57   91    1    1    0    0    0    0    0]\n",
      " [  92  103   64   24   11    7    3    0    0    0    0    0    0]\n",
      " [  47  116   14    6    2    0    0    0    0    0    0    0    0]\n",
      " [  24  103   13    5    1    0    0    0    1    0    0    0    0]\n",
      " [  48   55   18   10    6    3    0    0    0    0    0    0    0]\n",
      " [  16   34   11    3    2    0    0    0    0    0    0    0    0]\n",
      " [   6    9    2    2    0    0    0    0    0    0    0    0    0]\n",
      " [   1    0    0    0    0    0    0    0    0    0    0    0    0]]\n"
     ]
    }
   ],
   "source": [
    "print(confusion_matrix(y_test,pred_knn))"
   ]
  },
  {
   "cell_type": "code",
   "execution_count": 62,
   "id": "efebcc88",
   "metadata": {},
   "outputs": [],
   "source": [
    "from sklearn.compose import make_column_transformer, make_column_selector\n",
    "from sklearn.pipeline import make_pipeline\n",
    "from sklearn.preprocessing import OneHotEncoder, StandardScaler, MinMaxScaler\n",
    " "
   ]
  },
  {
   "cell_type": "code",
   "execution_count": 63,
   "id": "552cce8b",
   "metadata": {},
   "outputs": [],
   "source": [
    "trf_preproc = make_column_transformer(\n",
    "    (MinMaxScaler(), make_column_selector(dtype_include=np.integer))\n",
    ")\n",
    "clf_gaussian = make_pipeline(trf_preproc,GaussianNB())\n",
    "clf_gaussian.fit(X_train, y_train)\n",
    "y_pred_gaussian = clf_gaussian.predict(X_test)"
   ]
  },
  {
   "cell_type": "code",
   "execution_count": 64,
   "id": "e4174193",
   "metadata": {},
   "outputs": [
    {
     "name": "stdout",
     "output_type": "stream",
     "text": [
      "Accuracy for NaiveBayes: 0.19591576260370133\n"
     ]
    }
   ],
   "source": [
    "print(\"Accuracy for NaiveBayes:\",metrics.accuracy_score(y_test, y_pred_gaussian))"
   ]
  },
  {
   "cell_type": "code",
   "execution_count": 350,
   "id": "00e218f0",
   "metadata": {},
   "outputs": [],
   "source": []
  },
  {
   "cell_type": "code",
   "execution_count": 65,
   "id": "341ea615",
   "metadata": {},
   "outputs": [
    {
     "name": "stdout",
     "output_type": "stream",
     "text": [
      "Accuracy: 0.27458374427104487\n"
     ]
    }
   ],
   "source": [
    "clf_multinomial = make_pipeline(trf_preproc, MultinomialNB())\n",
    "clf_multinomial.fit(X_train, y_train)\n",
    "y_pred_multi = clf_multinomial.predict(X_test)\n",
    "print(\"Accuracy:\",metrics.accuracy_score(y_test, y_pred_multi))"
   ]
  },
  {
   "cell_type": "code",
   "execution_count": 66,
   "id": "13679559",
   "metadata": {},
   "outputs": [
    {
     "name": "stderr",
     "output_type": "stream",
     "text": [
      "C:\\Users\\anush\\anaconda3\\lib\\site-packages\\sklearn\\linear_model\\_logistic.py:814: ConvergenceWarning: lbfgs failed to converge (status=1):\n",
      "STOP: TOTAL NO. of ITERATIONS REACHED LIMIT.\n",
      "\n",
      "Increase the number of iterations (max_iter) or scale the data as shown in:\n",
      "    https://scikit-learn.org/stable/modules/preprocessing.html\n",
      "Please also refer to the documentation for alternative solver options:\n",
      "    https://scikit-learn.org/stable/modules/linear_model.html#logistic-regression\n",
      "C:\\Users\\anush\\anaconda3\\lib\\site-packages\\sklearn\\linear_model\\_logistic.py:814: ConvergenceWarning: lbfgs failed to converge (status=1):\n",
      "STOP: TOTAL NO. of ITERATIONS REACHED LIMIT.\n",
      "\n",
      "Increase the number of iterations (max_iter) or scale the data as shown in:\n",
      "    https://scikit-learn.org/stable/modules/preprocessing.html\n",
      "Please also refer to the documentation for alternative solver options:\n",
      "    https://scikit-learn.org/stable/modules/linear_model.html#logistic-regression\n",
      "C:\\Users\\anush\\anaconda3\\lib\\site-packages\\sklearn\\linear_model\\_logistic.py:814: ConvergenceWarning: lbfgs failed to converge (status=1):\n",
      "STOP: TOTAL NO. of ITERATIONS REACHED LIMIT.\n",
      "\n",
      "Increase the number of iterations (max_iter) or scale the data as shown in:\n",
      "    https://scikit-learn.org/stable/modules/preprocessing.html\n",
      "Please also refer to the documentation for alternative solver options:\n",
      "    https://scikit-learn.org/stable/modules/linear_model.html#logistic-regression\n",
      "C:\\Users\\anush\\anaconda3\\lib\\site-packages\\sklearn\\linear_model\\_logistic.py:814: ConvergenceWarning: lbfgs failed to converge (status=1):\n",
      "STOP: TOTAL NO. of ITERATIONS REACHED LIMIT.\n",
      "\n",
      "Increase the number of iterations (max_iter) or scale the data as shown in:\n",
      "    https://scikit-learn.org/stable/modules/preprocessing.html\n",
      "Please also refer to the documentation for alternative solver options:\n",
      "    https://scikit-learn.org/stable/modules/linear_model.html#logistic-regression\n",
      "C:\\Users\\anush\\anaconda3\\lib\\site-packages\\sklearn\\linear_model\\_logistic.py:814: ConvergenceWarning: lbfgs failed to converge (status=1):\n",
      "STOP: TOTAL NO. of ITERATIONS REACHED LIMIT.\n",
      "\n",
      "Increase the number of iterations (max_iter) or scale the data as shown in:\n",
      "    https://scikit-learn.org/stable/modules/preprocessing.html\n",
      "Please also refer to the documentation for alternative solver options:\n",
      "    https://scikit-learn.org/stable/modules/linear_model.html#logistic-regression\n",
      "C:\\Users\\anush\\anaconda3\\lib\\site-packages\\sklearn\\linear_model\\_logistic.py:814: ConvergenceWarning: lbfgs failed to converge (status=1):\n",
      "STOP: TOTAL NO. of ITERATIONS REACHED LIMIT.\n",
      "\n",
      "Increase the number of iterations (max_iter) or scale the data as shown in:\n",
      "    https://scikit-learn.org/stable/modules/preprocessing.html\n",
      "Please also refer to the documentation for alternative solver options:\n",
      "    https://scikit-learn.org/stable/modules/linear_model.html#logistic-regression\n",
      "C:\\Users\\anush\\anaconda3\\lib\\site-packages\\sklearn\\linear_model\\_logistic.py:814: ConvergenceWarning: lbfgs failed to converge (status=1):\n",
      "STOP: TOTAL NO. of ITERATIONS REACHED LIMIT.\n",
      "\n",
      "Increase the number of iterations (max_iter) or scale the data as shown in:\n",
      "    https://scikit-learn.org/stable/modules/preprocessing.html\n",
      "Please also refer to the documentation for alternative solver options:\n",
      "    https://scikit-learn.org/stable/modules/linear_model.html#logistic-regression\n",
      "C:\\Users\\anush\\anaconda3\\lib\\site-packages\\sklearn\\linear_model\\_logistic.py:814: ConvergenceWarning: lbfgs failed to converge (status=1):\n",
      "STOP: TOTAL NO. of ITERATIONS REACHED LIMIT.\n",
      "\n",
      "Increase the number of iterations (max_iter) or scale the data as shown in:\n",
      "    https://scikit-learn.org/stable/modules/preprocessing.html\n",
      "Please also refer to the documentation for alternative solver options:\n",
      "    https://scikit-learn.org/stable/modules/linear_model.html#logistic-regression\n",
      "C:\\Users\\anush\\anaconda3\\lib\\site-packages\\sklearn\\linear_model\\_logistic.py:814: ConvergenceWarning: lbfgs failed to converge (status=1):\n",
      "STOP: TOTAL NO. of ITERATIONS REACHED LIMIT.\n",
      "\n",
      "Increase the number of iterations (max_iter) or scale the data as shown in:\n",
      "    https://scikit-learn.org/stable/modules/preprocessing.html\n",
      "Please also refer to the documentation for alternative solver options:\n",
      "    https://scikit-learn.org/stable/modules/linear_model.html#logistic-regression\n",
      "C:\\Users\\anush\\anaconda3\\lib\\site-packages\\sklearn\\linear_model\\_logistic.py:814: ConvergenceWarning: lbfgs failed to converge (status=1):\n",
      "STOP: TOTAL NO. of ITERATIONS REACHED LIMIT.\n",
      "\n",
      "Increase the number of iterations (max_iter) or scale the data as shown in:\n",
      "    https://scikit-learn.org/stable/modules/preprocessing.html\n",
      "Please also refer to the documentation for alternative solver options:\n",
      "    https://scikit-learn.org/stable/modules/linear_model.html#logistic-regression\n",
      "C:\\Users\\anush\\anaconda3\\lib\\site-packages\\sklearn\\linear_model\\_logistic.py:814: ConvergenceWarning: lbfgs failed to converge (status=1):\n",
      "STOP: TOTAL NO. of ITERATIONS REACHED LIMIT.\n",
      "\n",
      "Increase the number of iterations (max_iter) or scale the data as shown in:\n",
      "    https://scikit-learn.org/stable/modules/preprocessing.html\n",
      "Please also refer to the documentation for alternative solver options:\n",
      "    https://scikit-learn.org/stable/modules/linear_model.html#logistic-regression\n",
      "C:\\Users\\anush\\anaconda3\\lib\\site-packages\\sklearn\\linear_model\\_logistic.py:814: ConvergenceWarning: lbfgs failed to converge (status=1):\n",
      "STOP: TOTAL NO. of ITERATIONS REACHED LIMIT.\n",
      "\n",
      "Increase the number of iterations (max_iter) or scale the data as shown in:\n",
      "    https://scikit-learn.org/stable/modules/preprocessing.html\n",
      "Please also refer to the documentation for alternative solver options:\n",
      "    https://scikit-learn.org/stable/modules/linear_model.html#logistic-regression\n",
      "C:\\Users\\anush\\anaconda3\\lib\\site-packages\\sklearn\\linear_model\\_logistic.py:814: ConvergenceWarning: lbfgs failed to converge (status=1):\n",
      "STOP: TOTAL NO. of ITERATIONS REACHED LIMIT.\n",
      "\n",
      "Increase the number of iterations (max_iter) or scale the data as shown in:\n",
      "    https://scikit-learn.org/stable/modules/preprocessing.html\n",
      "Please also refer to the documentation for alternative solver options:\n",
      "    https://scikit-learn.org/stable/modules/linear_model.html#logistic-regression\n"
     ]
    },
    {
     "name": "stdout",
     "output_type": "stream",
     "text": [
      "Accuracy of logistic regression: 0.4590706039333991\n"
     ]
    }
   ],
   "source": [
    "from sklearn import linear_model\n",
    "clf = linear_model.LogisticRegression(solver=\"lbfgs\", multi_class=\"ovr\")\n",
    "clf.fit(X_train, y_train)\n",
    "y_logistic = clf.predict(X_test)\n",
    "print(\"Accuracy of logistic regression:\",metrics.accuracy_score(y_test, y_logistic))"
   ]
  },
  {
   "cell_type": "code",
   "execution_count": 67,
   "id": "4949bb6c",
   "metadata": {},
   "outputs": [
    {
     "name": "stdout",
     "output_type": "stream",
     "text": [
      "              precision    recall  f1-score   support\n",
      "\n",
      "         0.0       0.44      0.47      0.46      4585\n",
      "         1.0       0.45      0.79      0.57      4287\n",
      "         2.0       0.32      0.21      0.25      3167\n",
      "         3.0       0.76      0.67      0.71      1924\n",
      "         4.0       0.33      0.12      0.18      1334\n",
      "         5.0       0.43      0.23      0.30      1078\n",
      "         6.0       0.00      0.00      0.00       304\n",
      "         7.0       0.29      0.04      0.08       185\n",
      "         8.0       0.00      0.00      0.00       147\n",
      "         9.0       0.00      0.00      0.00       140\n",
      "        10.0       0.00      0.00      0.00        66\n",
      "        11.0       0.00      0.00      0.00        19\n",
      "        12.0       0.00      0.00      0.00         1\n",
      "\n",
      "    accuracy                           0.46     17237\n",
      "   macro avg       0.23      0.20      0.20     17237\n",
      "weighted avg       0.43      0.46      0.42     17237\n",
      "\n"
     ]
    }
   ],
   "source": [
    "print(metrics.classification_report(y_test, y_logistic))"
   ]
  },
  {
   "cell_type": "markdown",
   "id": "7b455d9c",
   "metadata": {},
   "source": [
    "### Using information gain to select important features"
   ]
  },
  {
   "cell_type": "code",
   "execution_count": 68,
   "id": "9b1c090f",
   "metadata": {},
   "outputs": [],
   "source": [
    "from sklearn.feature_selection import mutual_info_classif"
   ]
  },
  {
   "cell_type": "code",
   "execution_count": 72,
   "id": "b2fcd0b3",
   "metadata": {},
   "outputs": [],
   "source": [
    "importances = mutual_info_classif(X, y)"
   ]
  },
  {
   "cell_type": "code",
   "execution_count": 73,
   "id": "a5ca702a",
   "metadata": {},
   "outputs": [],
   "source": [
    "feature_imp = pd.Series(importances,X.columns[0:len(X.columns)])"
   ]
  },
  {
   "cell_type": "code",
   "execution_count": 74,
   "id": "06deb1c4",
   "metadata": {},
   "outputs": [
    {
     "data": {
      "image/png": "[encoded data removed]",
      "text/plain": [
       "<Figure size 432x288 with 1 Axes>"
      ]
     },
     "metadata": {
      "needs_background": "light"
     },
     "output_type": "display_data"
    }
   ],
   "source": [
    "feature_imp.plot(kind = 'barh', color = 'blue')\n",
    "plt.show()"
   ]
  },
  {
   "cell_type": "code",
   "execution_count": 75,
   "id": "433ad2ea",
   "metadata": {
    "scrolled": true
   },
   "outputs": [],
   "source": [
    "list_of_attr = feature_imp.sort_values(ascending=False)"
   ]
  },
  {
   "cell_type": "code",
   "execution_count": 76,
   "id": "2a227ac0",
   "metadata": {},
   "outputs": [],
   "source": [
    "Attr = pd.DataFrame(list_of_attr)"
   ]
  },
  {
   "cell_type": "code",
   "execution_count": 78,
   "id": "48c9e309",
   "metadata": {},
   "outputs": [],
   "source": [
    "Attr.reset_index(inplace=True)\n"
   ]
  },
  {
   "cell_type": "code",
   "execution_count": 80,
   "id": "e41547f6",
   "metadata": {},
   "outputs": [],
   "source": [
    "Attr = Attr.rename(columns={Attr.columns[1]: 'Value'})"
   ]
  },
  {
   "cell_type": "code",
   "execution_count": 90,
   "id": "aa95bfdf",
   "metadata": {},
   "outputs": [
    {
     "data": {
      "text/html": [
       "<div>\n",
       "<style scoped>\n",
       "    .dataframe tbody tr th:only-of-type {\n",
       "        vertical-align: middle;\n",
       "    }\n",
       "\n",
       "    .dataframe tbody tr th {\n",
       "        vertical-align: top;\n",
       "    }\n",
       "\n",
       "    .dataframe thead th {\n",
       "        text-align: right;\n",
       "    }\n",
       "</style>\n",
       "<table border=\"1\" class=\"dataframe\">\n",
       "  <thead>\n",
       "    <tr style=\"text-align: right;\">\n",
       "      <th></th>\n",
       "      <th>index</th>\n",
       "      <th>Value</th>\n",
       "    </tr>\n",
       "  </thead>\n",
       "  <tbody>\n",
       "    <tr>\n",
       "      <th>0</th>\n",
       "      <td>los_hrs</td>\n",
       "      <td>0.173269</td>\n",
       "    </tr>\n",
       "    <tr>\n",
       "      <th>1</th>\n",
       "      <td>age_group</td>\n",
       "      <td>0.097254</td>\n",
       "    </tr>\n",
       "    <tr>\n",
       "      <th>2</th>\n",
       "      <td>220949_max</td>\n",
       "      <td>0.085401</td>\n",
       "    </tr>\n",
       "    <tr>\n",
       "      <th>3</th>\n",
       "      <td>226452_min</td>\n",
       "      <td>0.084885</td>\n",
       "    </tr>\n",
       "    <tr>\n",
       "      <th>4</th>\n",
       "      <td>220949_min</td>\n",
       "      <td>0.080990</td>\n",
       "    </tr>\n",
       "    <tr>\n",
       "      <th>5</th>\n",
       "      <td>226453_max</td>\n",
       "      <td>0.080567</td>\n",
       "    </tr>\n",
       "    <tr>\n",
       "      <th>6</th>\n",
       "      <td>225799_min</td>\n",
       "      <td>0.078632</td>\n",
       "    </tr>\n",
       "    <tr>\n",
       "      <th>7</th>\n",
       "      <td>226453_min</td>\n",
       "      <td>0.076583</td>\n",
       "    </tr>\n",
       "    <tr>\n",
       "      <th>8</th>\n",
       "      <td>225799_max</td>\n",
       "      <td>0.076569</td>\n",
       "    </tr>\n",
       "    <tr>\n",
       "      <th>9</th>\n",
       "      <td>226452_max</td>\n",
       "      <td>0.072873</td>\n",
       "    </tr>\n",
       "    <tr>\n",
       "      <th>10</th>\n",
       "      <td>225943_min</td>\n",
       "      <td>0.069506</td>\n",
       "    </tr>\n",
       "    <tr>\n",
       "      <th>11</th>\n",
       "      <td>225154_min</td>\n",
       "      <td>0.068449</td>\n",
       "    </tr>\n",
       "    <tr>\n",
       "      <th>12</th>\n",
       "      <td>221906_min</td>\n",
       "      <td>0.067326</td>\n",
       "    </tr>\n",
       "    <tr>\n",
       "      <th>13</th>\n",
       "      <td>225158_min</td>\n",
       "      <td>0.066176</td>\n",
       "    </tr>\n",
       "    <tr>\n",
       "      <th>14</th>\n",
       "      <td>223258_223258</td>\n",
       "      <td>0.065677</td>\n",
       "    </tr>\n",
       "    <tr>\n",
       "      <th>15</th>\n",
       "      <td>225154_max</td>\n",
       "      <td>0.065252</td>\n",
       "    </tr>\n",
       "    <tr>\n",
       "      <th>16</th>\n",
       "      <td>225798_min</td>\n",
       "      <td>0.063093</td>\n",
       "    </tr>\n",
       "    <tr>\n",
       "      <th>17</th>\n",
       "      <td>221906_max</td>\n",
       "      <td>0.062161</td>\n",
       "    </tr>\n",
       "    <tr>\n",
       "      <th>18</th>\n",
       "      <td>221794_221794</td>\n",
       "      <td>0.061408</td>\n",
       "    </tr>\n",
       "    <tr>\n",
       "      <th>19</th>\n",
       "      <td>225158_max</td>\n",
       "      <td>0.060430</td>\n",
       "    </tr>\n",
       "    <tr>\n",
       "      <th>20</th>\n",
       "      <td>225798_max</td>\n",
       "      <td>0.059486</td>\n",
       "    </tr>\n",
       "    <tr>\n",
       "      <th>21</th>\n",
       "      <td>226372_max</td>\n",
       "      <td>0.050243</td>\n",
       "    </tr>\n",
       "    <tr>\n",
       "      <th>22</th>\n",
       "      <td>226364_min</td>\n",
       "      <td>0.049584</td>\n",
       "    </tr>\n",
       "    <tr>\n",
       "      <th>23</th>\n",
       "      <td>222315_max</td>\n",
       "      <td>0.048075</td>\n",
       "    </tr>\n",
       "    <tr>\n",
       "      <th>24</th>\n",
       "      <td>226372_min</td>\n",
       "      <td>0.047811</td>\n",
       "    </tr>\n",
       "    <tr>\n",
       "      <th>25</th>\n",
       "      <td>225166_min</td>\n",
       "      <td>0.047577</td>\n",
       "    </tr>\n",
       "    <tr>\n",
       "      <th>26</th>\n",
       "      <td>insurance</td>\n",
       "      <td>0.044576</td>\n",
       "    </tr>\n",
       "    <tr>\n",
       "      <th>27</th>\n",
       "      <td>225943_max</td>\n",
       "      <td>0.043736</td>\n",
       "    </tr>\n",
       "    <tr>\n",
       "      <th>28</th>\n",
       "      <td>225166_max</td>\n",
       "      <td>0.043695</td>\n",
       "    </tr>\n",
       "    <tr>\n",
       "      <th>29</th>\n",
       "      <td>221749_min</td>\n",
       "      <td>0.043406</td>\n",
       "    </tr>\n",
       "    <tr>\n",
       "      <th>30</th>\n",
       "      <td>marital_status</td>\n",
       "      <td>0.043180</td>\n",
       "    </tr>\n",
       "    <tr>\n",
       "      <th>31</th>\n",
       "      <td>admission_type</td>\n",
       "      <td>0.042528</td>\n",
       "    </tr>\n",
       "    <tr>\n",
       "      <th>32</th>\n",
       "      <td>222315_min</td>\n",
       "      <td>0.042321</td>\n",
       "    </tr>\n",
       "    <tr>\n",
       "      <th>33</th>\n",
       "      <td>221744_221744</td>\n",
       "      <td>0.042168</td>\n",
       "    </tr>\n",
       "    <tr>\n",
       "      <th>34</th>\n",
       "      <td>225797_max</td>\n",
       "      <td>0.041771</td>\n",
       "    </tr>\n",
       "    <tr>\n",
       "      <th>35</th>\n",
       "      <td>225942_min</td>\n",
       "      <td>0.041382</td>\n",
       "    </tr>\n",
       "    <tr>\n",
       "      <th>36</th>\n",
       "      <td>225851_min</td>\n",
       "      <td>0.041263</td>\n",
       "    </tr>\n",
       "    <tr>\n",
       "      <th>37</th>\n",
       "      <td>admission_location</td>\n",
       "      <td>0.040742</td>\n",
       "    </tr>\n",
       "    <tr>\n",
       "      <th>38</th>\n",
       "      <td>225975_225975</td>\n",
       "      <td>0.040616</td>\n",
       "    </tr>\n",
       "    <tr>\n",
       "      <th>39</th>\n",
       "      <td>227522_max</td>\n",
       "      <td>0.040145</td>\n",
       "    </tr>\n",
       "  </tbody>\n",
       "</table>\n",
       "</div>"
      ],
      "text/plain": [
       "                 index     Value\n",
       "0              los_hrs  0.173269\n",
       "1            age_group  0.097254\n",
       "2           220949_max  0.085401\n",
       "3           226452_min  0.084885\n",
       "4           220949_min  0.080990\n",
       "5           226453_max  0.080567\n",
       "6           225799_min  0.078632\n",
       "7           226453_min  0.076583\n",
       "8           225799_max  0.076569\n",
       "9           226452_max  0.072873\n",
       "10          225943_min  0.069506\n",
       "11          225154_min  0.068449\n",
       "12          221906_min  0.067326\n",
       "13          225158_min  0.066176\n",
       "14       223258_223258  0.065677\n",
       "15          225154_max  0.065252\n",
       "16          225798_min  0.063093\n",
       "17          221906_max  0.062161\n",
       "18       221794_221794  0.061408\n",
       "19          225158_max  0.060430\n",
       "20          225798_max  0.059486\n",
       "21          226372_max  0.050243\n",
       "22          226364_min  0.049584\n",
       "23          222315_max  0.048075\n",
       "24          226372_min  0.047811\n",
       "25          225166_min  0.047577\n",
       "26           insurance  0.044576\n",
       "27          225943_max  0.043736\n",
       "28          225166_max  0.043695\n",
       "29          221749_min  0.043406\n",
       "30      marital_status  0.043180\n",
       "31      admission_type  0.042528\n",
       "32          222315_min  0.042321\n",
       "33       221744_221744  0.042168\n",
       "34          225797_max  0.041771\n",
       "35          225942_min  0.041382\n",
       "36          225851_min  0.041263\n",
       "37  admission_location  0.040742\n",
       "38       225975_225975  0.040616\n",
       "39          227522_max  0.040145"
      ]
     },
     "execution_count": 90,
     "metadata": {},
     "output_type": "execute_result"
    }
   ],
   "source": [
    "Attr[Attr['Value']>0.04]"
   ]
  },
  {
   "cell_type": "code",
   "execution_count": 221,
   "id": "6b2bc336",
   "metadata": {},
   "outputs": [
    {
     "data": {
      "text/html": [
       "<div>\n",
       "<style scoped>\n",
       "    .dataframe tbody tr th:only-of-type {\n",
       "        vertical-align: middle;\n",
       "    }\n",
       "\n",
       "    .dataframe tbody tr th {\n",
       "        vertical-align: top;\n",
       "    }\n",
       "\n",
       "    .dataframe thead th {\n",
       "        text-align: right;\n",
       "    }\n",
       "</style>\n",
       "<table border=\"1\" class=\"dataframe\">\n",
       "  <thead>\n",
       "    <tr style=\"text-align: right;\">\n",
       "      <th></th>\n",
       "      <th>itemid</th>\n",
       "      <th>label</th>\n",
       "      <th>abbreviation</th>\n",
       "      <th>linksto</th>\n",
       "      <th>category</th>\n",
       "      <th>unitname</th>\n",
       "      <th>param_type</th>\n",
       "      <th>lownormalvalue</th>\n",
       "      <th>highnormalvalue</th>\n",
       "    </tr>\n",
       "  </thead>\n",
       "  <tbody>\n",
       "    <tr>\n",
       "      <th>0</th>\n",
       "      <td>220949</td>\n",
       "      <td>Dextrose 5%</td>\n",
       "      <td>Dextrose 5%</td>\n",
       "      <td>inputevents</td>\n",
       "      <td>Fluids/Intake</td>\n",
       "      <td>mL</td>\n",
       "      <td>Solution</td>\n",
       "      <td></td>\n",
       "      <td></td>\n",
       "    </tr>\n",
       "    <tr>\n",
       "      <th>1</th>\n",
       "      <td>221906</td>\n",
       "      <td>Norepinephrine</td>\n",
       "      <td>Norepinephrine</td>\n",
       "      <td>inputevents</td>\n",
       "      <td>Medications</td>\n",
       "      <td>mg</td>\n",
       "      <td>Solution</td>\n",
       "      <td></td>\n",
       "      <td></td>\n",
       "    </tr>\n",
       "    <tr>\n",
       "      <th>2</th>\n",
       "      <td>223258</td>\n",
       "      <td>Insulin - Regular</td>\n",
       "      <td>Insulin - Regular</td>\n",
       "      <td>inputevents</td>\n",
       "      <td>Medications</td>\n",
       "      <td>units</td>\n",
       "      <td>Solution</td>\n",
       "      <td></td>\n",
       "      <td></td>\n",
       "    </tr>\n",
       "    <tr>\n",
       "      <th>3</th>\n",
       "      <td>225154</td>\n",
       "      <td>Morphine Sulfate</td>\n",
       "      <td>Morphine Sulfate</td>\n",
       "      <td>inputevents</td>\n",
       "      <td>Medications</td>\n",
       "      <td>mg</td>\n",
       "      <td>Solution</td>\n",
       "      <td></td>\n",
       "      <td></td>\n",
       "    </tr>\n",
       "    <tr>\n",
       "      <th>4</th>\n",
       "      <td>225158</td>\n",
       "      <td>NaCl 0.9%</td>\n",
       "      <td>NaCl 0.9%</td>\n",
       "      <td>inputevents</td>\n",
       "      <td>Fluids/Intake</td>\n",
       "      <td>mL</td>\n",
       "      <td>Solution</td>\n",
       "      <td></td>\n",
       "      <td></td>\n",
       "    </tr>\n",
       "    <tr>\n",
       "      <th>5</th>\n",
       "      <td>225799</td>\n",
       "      <td>Gastric Meds</td>\n",
       "      <td>Gastric Meds</td>\n",
       "      <td>inputevents</td>\n",
       "      <td>Fluids/Intake</td>\n",
       "      <td>mL</td>\n",
       "      <td>Solution</td>\n",
       "      <td></td>\n",
       "      <td></td>\n",
       "    </tr>\n",
       "    <tr>\n",
       "      <th>6</th>\n",
       "      <td>226452</td>\n",
       "      <td>PO Intake</td>\n",
       "      <td>PO Intake</td>\n",
       "      <td>inputevents</td>\n",
       "      <td>Fluids/Intake</td>\n",
       "      <td>mL</td>\n",
       "      <td>Solution</td>\n",
       "      <td></td>\n",
       "      <td></td>\n",
       "    </tr>\n",
       "    <tr>\n",
       "      <th>7</th>\n",
       "      <td>226453</td>\n",
       "      <td>GT Flush</td>\n",
       "      <td>GT Flush</td>\n",
       "      <td>inputevents</td>\n",
       "      <td>Fluids/Intake</td>\n",
       "      <td>mL</td>\n",
       "      <td>Solution</td>\n",
       "      <td></td>\n",
       "      <td></td>\n",
       "    </tr>\n",
       "  </tbody>\n",
       "</table>\n",
       "</div>"
      ],
      "text/plain": [
       "   itemid              label       abbreviation      linksto       category  \\\n",
       "0  220949        Dextrose 5%        Dextrose 5%  inputevents  Fluids/Intake   \n",
       "1  221906     Norepinephrine     Norepinephrine  inputevents    Medications   \n",
       "2  223258  Insulin - Regular  Insulin - Regular  inputevents    Medications   \n",
       "3  225154   Morphine Sulfate   Morphine Sulfate  inputevents    Medications   \n",
       "4  225158          NaCl 0.9%          NaCl 0.9%  inputevents  Fluids/Intake   \n",
       "5  225799       Gastric Meds       Gastric Meds  inputevents  Fluids/Intake   \n",
       "6  226452          PO Intake          PO Intake  inputevents  Fluids/Intake   \n",
       "7  226453           GT Flush           GT Flush  inputevents  Fluids/Intake   \n",
       "\n",
       "  unitname param_type lownormalvalue highnormalvalue  \n",
       "0       mL   Solution                                 \n",
       "1       mg   Solution                                 \n",
       "2    units   Solution                                 \n",
       "3       mg   Solution                                 \n",
       "4       mL   Solution                                 \n",
       "5       mL   Solution                                 \n",
       "6       mL   Solution                                 \n",
       "7       mL   Solution                                 "
      ]
     },
     "execution_count": 221,
     "metadata": {},
     "output_type": "execute_result"
    }
   ],
   "source": [
    "pd.read_sql(\"select * from d_items where itemid in ('220949','226452','226453','225799','226452','225154','221906','225158','223258')\", conn)"
   ]
  },
  {
   "cell_type": "code",
   "execution_count": 88,
   "id": "5c7aabc7",
   "metadata": {},
   "outputs": [],
   "source": [
    "final_attributes = Attr[Attr['Value']>0.04]"
   ]
  },
  {
   "cell_type": "code",
   "execution_count": 89,
   "id": "2edf6bae",
   "metadata": {},
   "outputs": [
    {
     "data": {
      "image/png": "[encoded data removed]",
      "text/plain": [
       "<Figure size 432x288 with 1 Axes>"
      ]
     },
     "metadata": {
      "needs_background": "light"
     },
     "output_type": "display_data"
    }
   ],
   "source": [
    "final_attributes.plot(kind = 'bar', color = 'teal')\n",
    "plt.show()"
   ]
  },
  {
   "cell_type": "code",
   "execution_count": 91,
   "id": "f1836cac",
   "metadata": {},
   "outputs": [],
   "source": [
    "columns = final_attributes['index'].tolist()"
   ]
  },
  {
   "cell_type": "code",
   "execution_count": 92,
   "id": "519e70ab",
   "metadata": {},
   "outputs": [],
   "source": [
    "X_feat = final[columns]"
   ]
  },
  {
   "cell_type": "code",
   "execution_count": 93,
   "id": "70c79e01",
   "metadata": {},
   "outputs": [],
   "source": [
    "feat_y = final['discharge_location']"
   ]
  },
  {
   "cell_type": "code",
   "execution_count": 94,
   "id": "6743c917",
   "metadata": {},
   "outputs": [],
   "source": [
    "X_train, X_test, y_train, y_test = train_test_split(X_feat, feat_y, test_size=0.25, random_state = 200)"
   ]
  },
  {
   "cell_type": "code",
   "execution_count": 95,
   "id": "a46f0766",
   "metadata": {},
   "outputs": [
    {
     "name": "stdout",
     "output_type": "stream",
     "text": [
      "Post feature selection - Accuracy for single train test split for decision tree: 0.39426814410860356\n",
      "              precision    recall  f1-score   support\n",
      "\n",
      "         0.0       0.42      0.41      0.41      4585\n",
      "         1.0       0.53      0.53      0.53      4287\n",
      "         2.0       0.32      0.32      0.32      3167\n",
      "         3.0       0.63      0.59      0.61      1924\n",
      "         4.0       0.17      0.18      0.17      1334\n",
      "         5.0       0.22      0.22      0.22      1078\n",
      "         6.0       0.03      0.04      0.04       304\n",
      "         7.0       0.06      0.07      0.07       185\n",
      "         8.0       0.09      0.11      0.10       147\n",
      "         9.0       0.03      0.03      0.03       140\n",
      "        10.0       0.03      0.03      0.03        66\n",
      "        11.0       0.00      0.00      0.00        19\n",
      "        12.0       0.00      0.00      0.00         1\n",
      "\n",
      "    accuracy                           0.39     17237\n",
      "   macro avg       0.19      0.19      0.19     17237\n",
      "weighted avg       0.40      0.39      0.40     17237\n",
      "\n"
     ]
    }
   ],
   "source": [
    "clf_tree = tree.DecisionTreeClassifier()\n",
    "clf_tree = clf_tree.fit(X_train, y_train)\n",
    "y_pred_tree = clf_tree.predict(X_test)\n",
    "print(\"Post feature selection - Accuracy for single train test split for decision tree:\",metrics.accuracy_score(y_test, y_pred_tree))\n",
    "print(metrics.classification_report(y_test, y_pred_tree))"
   ]
  },
  {
   "cell_type": "code",
   "execution_count": 97,
   "id": "4406a628",
   "metadata": {},
   "outputs": [
    {
     "name": "stdout",
     "output_type": "stream",
     "text": [
      " Post Featuer Selection  - Accuracy for random forest: 0.4808841445727215\n",
      "              precision    recall  f1-score   support\n",
      "\n",
      "         0.0       0.44      0.55      0.49      4585\n",
      "         1.0       0.56      0.67      0.61      4287\n",
      "         2.0       0.37      0.39      0.38      3167\n",
      "         3.0       0.74      0.63      0.68      1924\n",
      "         4.0       0.24      0.12      0.17      1334\n",
      "         5.0       0.35      0.23      0.28      1078\n",
      "         6.0       0.06      0.01      0.01       304\n",
      "         7.0       0.11      0.01      0.02       185\n",
      "         8.0       0.13      0.02      0.04       147\n",
      "         9.0       0.00      0.00      0.00       140\n",
      "        10.0       0.00      0.00      0.00        66\n",
      "        11.0       0.00      0.00      0.00        19\n",
      "        12.0       0.00      0.00      0.00         1\n",
      "\n",
      "    accuracy                           0.48     17237\n",
      "   macro avg       0.23      0.20      0.21     17237\n",
      "weighted avg       0.45      0.48      0.46     17237\n",
      "\n"
     ]
    },
    {
     "name": "stderr",
     "output_type": "stream",
     "text": [
      "C:\\Users\\anush\\anaconda3\\lib\\site-packages\\sklearn\\metrics\\_classification.py:1318: UndefinedMetricWarning: Precision and F-score are ill-defined and being set to 0.0 in labels with no predicted samples. Use `zero_division` parameter to control this behavior.\n",
      "C:\\Users\\anush\\anaconda3\\lib\\site-packages\\sklearn\\metrics\\_classification.py:1318: UndefinedMetricWarning: Precision and F-score are ill-defined and being set to 0.0 in labels with no predicted samples. Use `zero_division` parameter to control this behavior.\n",
      "C:\\Users\\anush\\anaconda3\\lib\\site-packages\\sklearn\\metrics\\_classification.py:1318: UndefinedMetricWarning: Precision and F-score are ill-defined and being set to 0.0 in labels with no predicted samples. Use `zero_division` parameter to control this behavior.\n"
     ]
    }
   ],
   "source": [
    "clf_random =  RandomForestClassifier(n_estimators=10, \n",
    "                                     max_features=10,\n",
    "                                     min_samples_split=2,\n",
    "                                     criterion=\"entropy\",\n",
    "                                     random_state=10,\n",
    "                                     n_jobs=-1)\n",
    "clf_random = clf_random.fit(X_train,y_train)\n",
    "y_pred_random = clf_random.predict(X_test)\n",
    "print(\" Post Featuer Selection  - Accuracy for random forest:\",metrics.accuracy_score(y_test, y_pred_random))\n",
    "print(metrics.classification_report(y_test, y_pred_random))"
   ]
  },
  {
   "cell_type": "code",
   "execution_count": 98,
   "id": "bf936083",
   "metadata": {},
   "outputs": [
    {
     "name": "stdout",
     "output_type": "stream",
     "text": [
      "Post Featuer Selection - Accuracy for KNN at K =10: 0.4077855775366943\n",
      "              precision    recall  f1-score   support\n",
      "\n",
      "         0.0       0.39      0.53      0.45      4585\n",
      "         1.0       0.46      0.62      0.52      4287\n",
      "         2.0       0.26      0.21      0.23      3167\n",
      "         3.0       0.64      0.52      0.57      1924\n",
      "         4.0       0.24      0.11      0.15      1334\n",
      "         5.0       0.31      0.16      0.21      1078\n",
      "         6.0       0.00      0.00      0.00       304\n",
      "         7.0       0.14      0.01      0.01       185\n",
      "         8.0       0.00      0.00      0.00       147\n",
      "         9.0       0.00      0.00      0.00       140\n",
      "        10.0       0.00      0.00      0.00        66\n",
      "        11.0       0.00      0.00      0.00        19\n",
      "        12.0       0.00      0.00      0.00         1\n",
      "\n",
      "    accuracy                           0.41     17237\n",
      "   macro avg       0.19      0.16      0.16     17237\n",
      "weighted avg       0.38      0.41      0.38     17237\n",
      "\n"
     ]
    },
    {
     "name": "stderr",
     "output_type": "stream",
     "text": [
      "C:\\Users\\anush\\anaconda3\\lib\\site-packages\\sklearn\\metrics\\_classification.py:1318: UndefinedMetricWarning: Precision and F-score are ill-defined and being set to 0.0 in labels with no predicted samples. Use `zero_division` parameter to control this behavior.\n",
      "C:\\Users\\anush\\anaconda3\\lib\\site-packages\\sklearn\\metrics\\_classification.py:1318: UndefinedMetricWarning: Precision and F-score are ill-defined and being set to 0.0 in labels with no predicted samples. Use `zero_division` parameter to control this behavior.\n",
      "C:\\Users\\anush\\anaconda3\\lib\\site-packages\\sklearn\\metrics\\_classification.py:1318: UndefinedMetricWarning: Precision and F-score are ill-defined and being set to 0.0 in labels with no predicted samples. Use `zero_division` parameter to control this behavior.\n"
     ]
    }
   ],
   "source": [
    "knn = KNeighborsClassifier(n_neighbors=10)\n",
    "knn = knn.fit(X_train,y_train)\n",
    "pred_knn = knn.predict(X_test)\n",
    "print(\"Post Featuer Selection - Accuracy for KNN at K =10:\",metrics.accuracy_score(y_test, pred_knn))\n",
    "print(metrics.classification_report(y_test, pred_knn))"
   ]
  },
  {
   "cell_type": "code",
   "execution_count": 99,
   "id": "14051171",
   "metadata": {},
   "outputs": [
    {
     "name": "stdout",
     "output_type": "stream",
     "text": [
      "Post Feature Selection - Accuracy for NaiveBayes: 0.3147299414051169\n"
     ]
    }
   ],
   "source": [
    "trf_preproc = make_column_transformer(\n",
    "    (MinMaxScaler(), make_column_selector(dtype_include=np.integer))\n",
    ")\n",
    "clf_gaussian = make_pipeline(trf_preproc,GaussianNB())\n",
    "clf_gaussian.fit(X_train, y_train)\n",
    "y_pred_gaussian = clf_gaussian.predict(X_test)\n",
    "print(\"Post Feature Selection - Accuracy for NaiveBayes:\",metrics.accuracy_score(y_test, y_pred_gaussian))"
   ]
  },
  {
   "cell_type": "code",
   "execution_count": 100,
   "id": "4452a388",
   "metadata": {},
   "outputs": [
    {
     "name": "stdout",
     "output_type": "stream",
     "text": [
      "Post Feature Selection - Multi nomial NB Accuracy: 0.267331902303185\n"
     ]
    }
   ],
   "source": [
    "clf_multinomial = make_pipeline(trf_preproc, MultinomialNB())\n",
    "clf_multinomial.fit(X_train, y_train)\n",
    "y_pred_multi = clf_multinomial.predict(X_test)\n",
    "print(\"Post Feature Selection - Multi nomial NB Accuracy:\",metrics.accuracy_score(y_test, y_pred_multi))"
   ]
  },
  {
   "cell_type": "code",
   "execution_count": 101,
   "id": "3f411ed3",
   "metadata": {},
   "outputs": [
    {
     "name": "stderr",
     "output_type": "stream",
     "text": [
      "C:\\Users\\anush\\anaconda3\\lib\\site-packages\\sklearn\\linear_model\\_logistic.py:814: ConvergenceWarning: lbfgs failed to converge (status=1):\n",
      "STOP: TOTAL NO. of ITERATIONS REACHED LIMIT.\n",
      "\n",
      "Increase the number of iterations (max_iter) or scale the data as shown in:\n",
      "    https://scikit-learn.org/stable/modules/preprocessing.html\n",
      "Please also refer to the documentation for alternative solver options:\n",
      "    https://scikit-learn.org/stable/modules/linear_model.html#logistic-regression\n",
      "C:\\Users\\anush\\anaconda3\\lib\\site-packages\\sklearn\\linear_model\\_logistic.py:814: ConvergenceWarning: lbfgs failed to converge (status=1):\n",
      "STOP: TOTAL NO. of ITERATIONS REACHED LIMIT.\n",
      "\n",
      "Increase the number of iterations (max_iter) or scale the data as shown in:\n",
      "    https://scikit-learn.org/stable/modules/preprocessing.html\n",
      "Please also refer to the documentation for alternative solver options:\n",
      "    https://scikit-learn.org/stable/modules/linear_model.html#logistic-regression\n",
      "C:\\Users\\anush\\anaconda3\\lib\\site-packages\\sklearn\\linear_model\\_logistic.py:814: ConvergenceWarning: lbfgs failed to converge (status=1):\n",
      "STOP: TOTAL NO. of ITERATIONS REACHED LIMIT.\n",
      "\n",
      "Increase the number of iterations (max_iter) or scale the data as shown in:\n",
      "    https://scikit-learn.org/stable/modules/preprocessing.html\n",
      "Please also refer to the documentation for alternative solver options:\n",
      "    https://scikit-learn.org/stable/modules/linear_model.html#logistic-regression\n",
      "C:\\Users\\anush\\anaconda3\\lib\\site-packages\\sklearn\\linear_model\\_logistic.py:814: ConvergenceWarning: lbfgs failed to converge (status=1):\n",
      "STOP: TOTAL NO. of ITERATIONS REACHED LIMIT.\n",
      "\n",
      "Increase the number of iterations (max_iter) or scale the data as shown in:\n",
      "    https://scikit-learn.org/stable/modules/preprocessing.html\n",
      "Please also refer to the documentation for alternative solver options:\n",
      "    https://scikit-learn.org/stable/modules/linear_model.html#logistic-regression\n",
      "C:\\Users\\anush\\anaconda3\\lib\\site-packages\\sklearn\\linear_model\\_logistic.py:814: ConvergenceWarning: lbfgs failed to converge (status=1):\n",
      "STOP: TOTAL NO. of ITERATIONS REACHED LIMIT.\n",
      "\n",
      "Increase the number of iterations (max_iter) or scale the data as shown in:\n",
      "    https://scikit-learn.org/stable/modules/preprocessing.html\n",
      "Please also refer to the documentation for alternative solver options:\n",
      "    https://scikit-learn.org/stable/modules/linear_model.html#logistic-regression\n",
      "C:\\Users\\anush\\anaconda3\\lib\\site-packages\\sklearn\\linear_model\\_logistic.py:814: ConvergenceWarning: lbfgs failed to converge (status=1):\n",
      "STOP: TOTAL NO. of ITERATIONS REACHED LIMIT.\n",
      "\n",
      "Increase the number of iterations (max_iter) or scale the data as shown in:\n",
      "    https://scikit-learn.org/stable/modules/preprocessing.html\n",
      "Please also refer to the documentation for alternative solver options:\n",
      "    https://scikit-learn.org/stable/modules/linear_model.html#logistic-regression\n",
      "C:\\Users\\anush\\anaconda3\\lib\\site-packages\\sklearn\\linear_model\\_logistic.py:814: ConvergenceWarning: lbfgs failed to converge (status=1):\n",
      "STOP: TOTAL NO. of ITERATIONS REACHED LIMIT.\n",
      "\n",
      "Increase the number of iterations (max_iter) or scale the data as shown in:\n",
      "    https://scikit-learn.org/stable/modules/preprocessing.html\n",
      "Please also refer to the documentation for alternative solver options:\n",
      "    https://scikit-learn.org/stable/modules/linear_model.html#logistic-regression\n",
      "C:\\Users\\anush\\anaconda3\\lib\\site-packages\\sklearn\\linear_model\\_logistic.py:814: ConvergenceWarning: lbfgs failed to converge (status=1):\n",
      "STOP: TOTAL NO. of ITERATIONS REACHED LIMIT.\n",
      "\n",
      "Increase the number of iterations (max_iter) or scale the data as shown in:\n",
      "    https://scikit-learn.org/stable/modules/preprocessing.html\n",
      "Please also refer to the documentation for alternative solver options:\n",
      "    https://scikit-learn.org/stable/modules/linear_model.html#logistic-regression\n",
      "C:\\Users\\anush\\anaconda3\\lib\\site-packages\\sklearn\\linear_model\\_logistic.py:814: ConvergenceWarning: lbfgs failed to converge (status=1):\n",
      "STOP: TOTAL NO. of ITERATIONS REACHED LIMIT.\n",
      "\n",
      "Increase the number of iterations (max_iter) or scale the data as shown in:\n",
      "    https://scikit-learn.org/stable/modules/preprocessing.html\n",
      "Please also refer to the documentation for alternative solver options:\n",
      "    https://scikit-learn.org/stable/modules/linear_model.html#logistic-regression\n",
      "C:\\Users\\anush\\anaconda3\\lib\\site-packages\\sklearn\\linear_model\\_logistic.py:814: ConvergenceWarning: lbfgs failed to converge (status=1):\n",
      "STOP: TOTAL NO. of ITERATIONS REACHED LIMIT.\n",
      "\n",
      "Increase the number of iterations (max_iter) or scale the data as shown in:\n",
      "    https://scikit-learn.org/stable/modules/preprocessing.html\n",
      "Please also refer to the documentation for alternative solver options:\n",
      "    https://scikit-learn.org/stable/modules/linear_model.html#logistic-regression\n",
      "C:\\Users\\anush\\anaconda3\\lib\\site-packages\\sklearn\\linear_model\\_logistic.py:814: ConvergenceWarning: lbfgs failed to converge (status=1):\n",
      "STOP: TOTAL NO. of ITERATIONS REACHED LIMIT.\n",
      "\n",
      "Increase the number of iterations (max_iter) or scale the data as shown in:\n",
      "    https://scikit-learn.org/stable/modules/preprocessing.html\n",
      "Please also refer to the documentation for alternative solver options:\n",
      "    https://scikit-learn.org/stable/modules/linear_model.html#logistic-regression\n",
      "C:\\Users\\anush\\anaconda3\\lib\\site-packages\\sklearn\\linear_model\\_logistic.py:814: ConvergenceWarning: lbfgs failed to converge (status=1):\n",
      "STOP: TOTAL NO. of ITERATIONS REACHED LIMIT.\n",
      "\n",
      "Increase the number of iterations (max_iter) or scale the data as shown in:\n",
      "    https://scikit-learn.org/stable/modules/preprocessing.html\n",
      "Please also refer to the documentation for alternative solver options:\n",
      "    https://scikit-learn.org/stable/modules/linear_model.html#logistic-regression\n"
     ]
    },
    {
     "name": "stdout",
     "output_type": "stream",
     "text": [
      "Post Feature Selection - Accuracy of logistic regression: 0.43447235597841855\n",
      "              precision    recall  f1-score   support\n",
      "\n",
      "         0.0       0.41      0.50      0.45      4585\n",
      "         1.0       0.45      0.72      0.55      4287\n",
      "         2.0       0.28      0.18      0.22      3167\n",
      "         3.0       0.69      0.62      0.65      1924\n",
      "         4.0       0.23      0.06      0.09      1334\n",
      "         5.0       0.39      0.22      0.28      1078\n",
      "         6.0       0.00      0.00      0.00       304\n",
      "         7.0       0.00      0.00      0.00       185\n",
      "         8.0       0.00      0.00      0.00       147\n",
      "         9.0       0.00      0.00      0.00       140\n",
      "        10.0       0.00      0.00      0.00        66\n",
      "        11.0       0.00      0.00      0.00        19\n",
      "        12.0       0.00      0.00      0.00         1\n",
      "\n",
      "    accuracy                           0.43     17237\n",
      "   macro avg       0.19      0.18      0.17     17237\n",
      "weighted avg       0.39      0.43      0.40     17237\n",
      "\n"
     ]
    },
    {
     "name": "stderr",
     "output_type": "stream",
     "text": [
      "C:\\Users\\anush\\anaconda3\\lib\\site-packages\\sklearn\\linear_model\\_logistic.py:814: ConvergenceWarning: lbfgs failed to converge (status=1):\n",
      "STOP: TOTAL NO. of ITERATIONS REACHED LIMIT.\n",
      "\n",
      "Increase the number of iterations (max_iter) or scale the data as shown in:\n",
      "    https://scikit-learn.org/stable/modules/preprocessing.html\n",
      "Please also refer to the documentation for alternative solver options:\n",
      "    https://scikit-learn.org/stable/modules/linear_model.html#logistic-regression\n",
      "C:\\Users\\anush\\anaconda3\\lib\\site-packages\\sklearn\\metrics\\_classification.py:1318: UndefinedMetricWarning: Precision and F-score are ill-defined and being set to 0.0 in labels with no predicted samples. Use `zero_division` parameter to control this behavior.\n",
      "C:\\Users\\anush\\anaconda3\\lib\\site-packages\\sklearn\\metrics\\_classification.py:1318: UndefinedMetricWarning: Precision and F-score are ill-defined and being set to 0.0 in labels with no predicted samples. Use `zero_division` parameter to control this behavior.\n",
      "C:\\Users\\anush\\anaconda3\\lib\\site-packages\\sklearn\\metrics\\_classification.py:1318: UndefinedMetricWarning: Precision and F-score are ill-defined and being set to 0.0 in labels with no predicted samples. Use `zero_division` parameter to control this behavior.\n"
     ]
    }
   ],
   "source": [
    "from sklearn import linear_model\n",
    "clf = linear_model.LogisticRegression(solver=\"lbfgs\", multi_class=\"ovr\")\n",
    "clf.fit(X_train, y_train)\n",
    "y_logistic = clf.predict(X_test)\n",
    "print(\"Post Feature Selection - Accuracy of logistic regression:\",metrics.accuracy_score(y_test, y_logistic))\n",
    "print(metrics.classification_report(y_test, y_logistic))"
   ]
  },
  {
   "cell_type": "code",
   "execution_count": 102,
   "id": "83d4e1e2",
   "metadata": {},
   "outputs": [],
   "source": [
    "from sklearn.preprocessing import MinMaxScaler\n",
    "from sklearn.model_selection import train_test_split\n",
    "from sklearn.metrics import classification_report, confusion_matrix\n",
    "from sklearn.ensemble import GradientBoostingClassifier"
   ]
  },
  {
   "cell_type": "code",
   "execution_count": 103,
   "id": "38b6d2ee",
   "metadata": {},
   "outputs": [
    {
     "name": "stdout",
     "output_type": "stream",
     "text": [
      "Learning rate:  0.05\n",
      "Accuracy score (training): 0.419\n",
      "Accuracy score (validation): 0.414\n",
      "Learning rate:  0.075\n",
      "Accuracy score (training): 0.437\n",
      "Accuracy score (validation): 0.432\n",
      "Learning rate:  0.1\n",
      "Accuracy score (training): 0.445\n",
      "Accuracy score (validation): 0.439\n",
      "Learning rate:  0.25\n",
      "Accuracy score (training): 0.475\n",
      "Accuracy score (validation): 0.474\n",
      "Learning rate:  0.5\n",
      "Accuracy score (training): 0.489\n",
      "Accuracy score (validation): 0.486\n",
      "Learning rate:  0.75\n",
      "Accuracy score (training): 0.177\n",
      "Accuracy score (validation): 0.176\n",
      "Learning rate:  1\n",
      "Accuracy score (training): 0.172\n",
      "Accuracy score (validation): 0.174\n"
     ]
    }
   ],
   "source": [
    "lr_list = [0.05, 0.075, 0.1, 0.25, 0.5, 0.75, 1]\n",
    "\n",
    "for learning_rate in lr_list:\n",
    "    gb_clf = GradientBoostingClassifier(n_estimators=20, learning_rate=learning_rate, max_features=2, max_depth=2, random_state=0)\n",
    "    gb_clf.fit(X_train, y_train)\n",
    "\n",
    "    print(\"Learning rate: \", learning_rate)\n",
    "    print(\"Accuracy score (training): {0:.3f}\".format(gb_clf.score(X_train, y_train)))\n",
    "    print(\"Accuracy score (validation): {0:.3f}\".format(gb_clf.score(X_test, y_test)))"
   ]
  },
  {
   "cell_type": "code",
   "execution_count": 104,
   "id": "57e11c48",
   "metadata": {},
   "outputs": [],
   "source": [
    "#highest learning rate at 0.25\n",
    "gb_clf2 = GradientBoostingClassifier(n_estimators=20, learning_rate=0.5, max_features=2, max_depth=2, random_state=0)\n",
    "gb_clf2.fit(X_train, y_train)\n",
    "predictions = gb_clf2.predict(X_test)"
   ]
  },
  {
   "cell_type": "code",
   "execution_count": 105,
   "id": "75488911",
   "metadata": {},
   "outputs": [
    {
     "name": "stdout",
     "output_type": "stream",
     "text": [
      "Confusion Matrix for Gradient Boost:\n",
      "[[2559 1206  564   71   86   81    1    5    5    1    3    0    3]\n",
      " [ 777 3129  226   36   76   27    0    7    6    0    0    0    3]\n",
      " [1292  466 1019  107  117  155    1    4    1    1    0    0    4]\n",
      " [ 189  131  234 1185   36  146    0    0    1    0    2    0    0]\n",
      " [ 341  326  299   41  173  147    1    2    1    0    0    0    3]\n",
      " [ 235  102  261   75   91  306    2    2    0    1    0    0    3]\n",
      " [  96   70   69   33    5   31    0    0    0    0    0    0    0]\n",
      " [  14  142    9    2    4    3    0    9    2    0    0    0    0]\n",
      " [  12  114    9    6    2    0    0    2    1    1    0    0    0]\n",
      " [  33   54   23   16    6    7    0    0    0    1    0    0    0]\n",
      " [  16   37    5    5    1    2    0    0    0    0    0    0    0]\n",
      " [   4    6    6    1    1    1    0    0    0    0    0    0    0]\n",
      " [   1    0    0    0    0    0    0    0    0    0    0    0    0]]\n",
      "Classification Report for Gradient Boost\n",
      "              precision    recall  f1-score   support\n",
      "\n",
      "         0.0       0.46      0.56      0.50      4585\n",
      "         1.0       0.54      0.73      0.62      4287\n",
      "         2.0       0.37      0.32      0.35      3167\n",
      "         3.0       0.75      0.62      0.68      1924\n",
      "         4.0       0.29      0.13      0.18      1334\n",
      "         5.0       0.34      0.28      0.31      1078\n",
      "         6.0       0.00      0.00      0.00       304\n",
      "         7.0       0.29      0.05      0.08       185\n",
      "         8.0       0.06      0.01      0.01       147\n",
      "         9.0       0.20      0.01      0.01       140\n",
      "        10.0       0.00      0.00      0.00        66\n",
      "        11.0       0.00      0.00      0.00        19\n",
      "        12.0       0.00      0.00      0.00         1\n",
      "\n",
      "    accuracy                           0.49     17237\n",
      "   macro avg       0.25      0.21      0.21     17237\n",
      "weighted avg       0.46      0.49      0.46     17237\n",
      "\n"
     ]
    },
    {
     "name": "stderr",
     "output_type": "stream",
     "text": [
      "C:\\Users\\anush\\anaconda3\\lib\\site-packages\\sklearn\\metrics\\_classification.py:1318: UndefinedMetricWarning: Precision and F-score are ill-defined and being set to 0.0 in labels with no predicted samples. Use `zero_division` parameter to control this behavior.\n",
      "C:\\Users\\anush\\anaconda3\\lib\\site-packages\\sklearn\\metrics\\_classification.py:1318: UndefinedMetricWarning: Precision and F-score are ill-defined and being set to 0.0 in labels with no predicted samples. Use `zero_division` parameter to control this behavior.\n",
      "C:\\Users\\anush\\anaconda3\\lib\\site-packages\\sklearn\\metrics\\_classification.py:1318: UndefinedMetricWarning: Precision and F-score are ill-defined and being set to 0.0 in labels with no predicted samples. Use `zero_division` parameter to control this behavior.\n"
     ]
    }
   ],
   "source": [
    "print(\"Confusion Matrix for Gradient Boost:\")\n",
    "print(confusion_matrix(y_test, predictions))\n",
    "\n",
    "print(\"Classification Report for Gradient Boost\")\n",
    "print(classification_report(y_test, predictions))"
   ]
  },
  {
   "cell_type": "code",
   "execution_count": 106,
   "id": "81ce237e",
   "metadata": {},
   "outputs": [
    {
     "data": {
      "image/png": "[encoded data removed]",
      "text/plain": [
       "<Figure size 576x360 with 2 Axes>"
      ]
     },
     "metadata": {
      "needs_background": "light"
     },
     "output_type": "display_data"
    }
   ],
   "source": [
    "from sklearn.metrics import ConfusionMatrixDisplay, confusion_matrix\n",
    "fig, ax = plt.subplots(figsize=(8, 5))\n",
    "cmp = ConfusionMatrixDisplay(\n",
    "    confusion_matrix(y_test, predictions),\n",
    "    display_labels=['HOME HEALTH CARE - 0', 'HOME - 1', 'SKILLED NURSING FACILITY-2', 'DIED-3', 'REHAB-4', 'CHRONIC/LONG TERM ACUTE CARE-5', 'HOSPICE-6', 'PSYCH FACILITY-7', 'AGAINST ADVICE-8','ACUTE HOSPITAL-9','OTHER FACILITY-10', 'ASSISTED LIVING-11', 'HEALTHCARE FACILITY-12'],\n",
    ")\n",
    "\n",
    "cmp.plot(ax=ax)\n",
    "plt.show();"
   ]
  },
  {
   "cell_type": "markdown",
   "id": "ca14c087",
   "metadata": {},
   "source": [
    "### Feature Importance based on Random Forest"
   ]
  },
  {
   "cell_type": "code",
   "execution_count": 107,
   "id": "a74f57bb",
   "metadata": {},
   "outputs": [],
   "source": [
    "imprf=pd.DataFrame([Attr['index'].tolist(),clf_random.feature_importances_]).T"
   ]
  },
  {
   "cell_type": "code",
   "execution_count": 108,
   "id": "e2f3c1ff",
   "metadata": {},
   "outputs": [],
   "source": [
    "feat_rf = imprf.sort_values(1, ascending=False)"
   ]
  },
  {
   "cell_type": "code",
   "execution_count": 109,
   "id": "19028657",
   "metadata": {},
   "outputs": [],
   "source": [
    "feat_rf = feat_rf.rename(columns={feat_rf.columns[0]: 'Attribute',feat_rf.columns[1]: 'Value'})"
   ]
  },
  {
   "cell_type": "code",
   "execution_count": 111,
   "id": "8a3caffa",
   "metadata": {},
   "outputs": [],
   "source": [
    "features_rf = feat_rf[feat_rf['Value'] >= 0]"
   ]
  },
  {
   "cell_type": "code",
   "execution_count": 222,
   "id": "7d3b941b",
   "metadata": {},
   "outputs": [
    {
     "data": {
      "text/html": [
       "<div>\n",
       "<style scoped>\n",
       "    .dataframe tbody tr th:only-of-type {\n",
       "        vertical-align: middle;\n",
       "    }\n",
       "\n",
       "    .dataframe tbody tr th {\n",
       "        vertical-align: top;\n",
       "    }\n",
       "\n",
       "    .dataframe thead th {\n",
       "        text-align: right;\n",
       "    }\n",
       "</style>\n",
       "<table border=\"1\" class=\"dataframe\">\n",
       "  <thead>\n",
       "    <tr style=\"text-align: right;\">\n",
       "      <th></th>\n",
       "      <th>Attribute</th>\n",
       "      <th>Value</th>\n",
       "    </tr>\n",
       "  </thead>\n",
       "  <tbody>\n",
       "    <tr>\n",
       "      <th>0</th>\n",
       "      <td>los_hrs</td>\n",
       "      <td>0.149505</td>\n",
       "    </tr>\n",
       "    <tr>\n",
       "      <th>9</th>\n",
       "      <td>226452_max</td>\n",
       "      <td>0.064276</td>\n",
       "    </tr>\n",
       "    <tr>\n",
       "      <th>1</th>\n",
       "      <td>age_group</td>\n",
       "      <td>0.056758</td>\n",
       "    </tr>\n",
       "    <tr>\n",
       "      <th>3</th>\n",
       "      <td>226452_min</td>\n",
       "      <td>0.051596</td>\n",
       "    </tr>\n",
       "    <tr>\n",
       "      <th>13</th>\n",
       "      <td>225158_min</td>\n",
       "      <td>0.039237</td>\n",
       "    </tr>\n",
       "    <tr>\n",
       "      <th>2</th>\n",
       "      <td>220949_max</td>\n",
       "      <td>0.036947</td>\n",
       "    </tr>\n",
       "    <tr>\n",
       "      <th>30</th>\n",
       "      <td>marital_status</td>\n",
       "      <td>0.034937</td>\n",
       "    </tr>\n",
       "    <tr>\n",
       "      <th>31</th>\n",
       "      <td>admission_type</td>\n",
       "      <td>0.034527</td>\n",
       "    </tr>\n",
       "    <tr>\n",
       "      <th>19</th>\n",
       "      <td>225158_max</td>\n",
       "      <td>0.034391</td>\n",
       "    </tr>\n",
       "    <tr>\n",
       "      <th>38</th>\n",
       "      <td>225975_225975</td>\n",
       "      <td>0.033578</td>\n",
       "    </tr>\n",
       "    <tr>\n",
       "      <th>4</th>\n",
       "      <td>220949_min</td>\n",
       "      <td>0.030017</td>\n",
       "    </tr>\n",
       "    <tr>\n",
       "      <th>37</th>\n",
       "      <td>admission_location</td>\n",
       "      <td>0.028026</td>\n",
       "    </tr>\n",
       "    <tr>\n",
       "      <th>26</th>\n",
       "      <td>insurance</td>\n",
       "      <td>0.025297</td>\n",
       "    </tr>\n",
       "    <tr>\n",
       "      <th>18</th>\n",
       "      <td>221794_221794</td>\n",
       "      <td>0.024052</td>\n",
       "    </tr>\n",
       "    <tr>\n",
       "      <th>8</th>\n",
       "      <td>225799_max</td>\n",
       "      <td>0.023095</td>\n",
       "    </tr>\n",
       "    <tr>\n",
       "      <th>14</th>\n",
       "      <td>223258_223258</td>\n",
       "      <td>0.022969</td>\n",
       "    </tr>\n",
       "    <tr>\n",
       "      <th>10</th>\n",
       "      <td>225943_min</td>\n",
       "      <td>0.02239</td>\n",
       "    </tr>\n",
       "    <tr>\n",
       "      <th>7</th>\n",
       "      <td>226453_min</td>\n",
       "      <td>0.020817</td>\n",
       "    </tr>\n",
       "    <tr>\n",
       "      <th>33</th>\n",
       "      <td>221744_221744</td>\n",
       "      <td>0.020448</td>\n",
       "    </tr>\n",
       "    <tr>\n",
       "      <th>22</th>\n",
       "      <td>226364_min</td>\n",
       "      <td>0.020434</td>\n",
       "    </tr>\n",
       "    <tr>\n",
       "      <th>27</th>\n",
       "      <td>225943_max</td>\n",
       "      <td>0.018005</td>\n",
       "    </tr>\n",
       "    <tr>\n",
       "      <th>28</th>\n",
       "      <td>225166_max</td>\n",
       "      <td>0.017555</td>\n",
       "    </tr>\n",
       "    <tr>\n",
       "      <th>6</th>\n",
       "      <td>225799_min</td>\n",
       "      <td>0.017479</td>\n",
       "    </tr>\n",
       "    <tr>\n",
       "      <th>25</th>\n",
       "      <td>225166_min</td>\n",
       "      <td>0.015204</td>\n",
       "    </tr>\n",
       "    <tr>\n",
       "      <th>11</th>\n",
       "      <td>225154_min</td>\n",
       "      <td>0.014165</td>\n",
       "    </tr>\n",
       "    <tr>\n",
       "      <th>5</th>\n",
       "      <td>226453_max</td>\n",
       "      <td>0.013677</td>\n",
       "    </tr>\n",
       "    <tr>\n",
       "      <th>24</th>\n",
       "      <td>226372_min</td>\n",
       "      <td>0.013124</td>\n",
       "    </tr>\n",
       "    <tr>\n",
       "      <th>15</th>\n",
       "      <td>225154_max</td>\n",
       "      <td>0.013023</td>\n",
       "    </tr>\n",
       "    <tr>\n",
       "      <th>12</th>\n",
       "      <td>221906_min</td>\n",
       "      <td>0.01179</td>\n",
       "    </tr>\n",
       "    <tr>\n",
       "      <th>16</th>\n",
       "      <td>225798_min</td>\n",
       "      <td>0.011283</td>\n",
       "    </tr>\n",
       "    <tr>\n",
       "      <th>20</th>\n",
       "      <td>225798_max</td>\n",
       "      <td>0.01112</td>\n",
       "    </tr>\n",
       "    <tr>\n",
       "      <th>36</th>\n",
       "      <td>225851_min</td>\n",
       "      <td>0.010539</td>\n",
       "    </tr>\n",
       "    <tr>\n",
       "      <th>39</th>\n",
       "      <td>227522_max</td>\n",
       "      <td>0.009573</td>\n",
       "    </tr>\n",
       "    <tr>\n",
       "      <th>23</th>\n",
       "      <td>222315_max</td>\n",
       "      <td>0.008369</td>\n",
       "    </tr>\n",
       "    <tr>\n",
       "      <th>21</th>\n",
       "      <td>226372_max</td>\n",
       "      <td>0.007829</td>\n",
       "    </tr>\n",
       "    <tr>\n",
       "      <th>29</th>\n",
       "      <td>221749_min</td>\n",
       "      <td>0.007437</td>\n",
       "    </tr>\n",
       "    <tr>\n",
       "      <th>34</th>\n",
       "      <td>225797_max</td>\n",
       "      <td>0.007046</td>\n",
       "    </tr>\n",
       "    <tr>\n",
       "      <th>17</th>\n",
       "      <td>221906_max</td>\n",
       "      <td>0.006825</td>\n",
       "    </tr>\n",
       "    <tr>\n",
       "      <th>32</th>\n",
       "      <td>222315_min</td>\n",
       "      <td>0.006411</td>\n",
       "    </tr>\n",
       "    <tr>\n",
       "      <th>35</th>\n",
       "      <td>225942_min</td>\n",
       "      <td>0.00625</td>\n",
       "    </tr>\n",
       "  </tbody>\n",
       "</table>\n",
       "</div>"
      ],
      "text/plain": [
       "             Attribute     Value\n",
       "0              los_hrs  0.149505\n",
       "9           226452_max  0.064276\n",
       "1            age_group  0.056758\n",
       "3           226452_min  0.051596\n",
       "13          225158_min  0.039237\n",
       "2           220949_max  0.036947\n",
       "30      marital_status  0.034937\n",
       "31      admission_type  0.034527\n",
       "19          225158_max  0.034391\n",
       "38       225975_225975  0.033578\n",
       "4           220949_min  0.030017\n",
       "37  admission_location  0.028026\n",
       "26           insurance  0.025297\n",
       "18       221794_221794  0.024052\n",
       "8           225799_max  0.023095\n",
       "14       223258_223258  0.022969\n",
       "10          225943_min   0.02239\n",
       "7           226453_min  0.020817\n",
       "33       221744_221744  0.020448\n",
       "22          226364_min  0.020434\n",
       "27          225943_max  0.018005\n",
       "28          225166_max  0.017555\n",
       "6           225799_min  0.017479\n",
       "25          225166_min  0.015204\n",
       "11          225154_min  0.014165\n",
       "5           226453_max  0.013677\n",
       "24          226372_min  0.013124\n",
       "15          225154_max  0.013023\n",
       "12          221906_min   0.01179\n",
       "16          225798_min  0.011283\n",
       "20          225798_max   0.01112\n",
       "36          225851_min  0.010539\n",
       "39          227522_max  0.009573\n",
       "23          222315_max  0.008369\n",
       "21          226372_max  0.007829\n",
       "29          221749_min  0.007437\n",
       "34          225797_max  0.007046\n",
       "17          221906_max  0.006825\n",
       "32          222315_min  0.006411\n",
       "35          225942_min   0.00625"
      ]
     },
     "execution_count": 222,
     "metadata": {},
     "output_type": "execute_result"
    }
   ],
   "source": [
    "features_rf"
   ]
  },
  {
   "cell_type": "code",
   "execution_count": 527,
   "id": "01595eda",
   "metadata": {},
   "outputs": [],
   "source": [
    "#Models based on feature selection from random forest"
   ]
  },
  {
   "cell_type": "code",
   "execution_count": 112,
   "id": "8d49d8a5",
   "metadata": {},
   "outputs": [],
   "source": [
    "X_rf_feat = final[features_rf['Attribute'].tolist()]"
   ]
  },
  {
   "cell_type": "code",
   "execution_count": 113,
   "id": "40b4175f",
   "metadata": {},
   "outputs": [],
   "source": [
    "rf_feat_y = final['discharge_location']"
   ]
  },
  {
   "cell_type": "code",
   "execution_count": 114,
   "id": "58eaaa3b",
   "metadata": {},
   "outputs": [],
   "source": [
    "X_train, X_test, y_train, y_test = train_test_split(X_rf_feat, rf_feat_y, test_size=0.25, random_state = 200)"
   ]
  },
  {
   "cell_type": "code",
   "execution_count": 115,
   "id": "ed1fc7f2",
   "metadata": {},
   "outputs": [
    {
     "name": "stdout",
     "output_type": "stream",
     "text": [
      "Post RF feature selection - Accuracy for single train test split for decision tree: 0.4003596913616059\n",
      "              precision    recall  f1-score   support\n",
      "\n",
      "         0.0       0.43      0.42      0.42      4585\n",
      "         1.0       0.53      0.53      0.53      4287\n",
      "         2.0       0.33      0.33      0.33      3167\n",
      "         3.0       0.63      0.58      0.61      1924\n",
      "         4.0       0.17      0.18      0.18      1334\n",
      "         5.0       0.22      0.21      0.22      1078\n",
      "         6.0       0.03      0.04      0.04       304\n",
      "         7.0       0.07      0.09      0.08       185\n",
      "         8.0       0.09      0.11      0.10       147\n",
      "         9.0       0.02      0.02      0.02       140\n",
      "        10.0       0.01      0.02      0.02        66\n",
      "        11.0       0.00      0.00      0.00        19\n",
      "        12.0       0.00      0.00      0.00         1\n",
      "\n",
      "    accuracy                           0.40     17237\n",
      "   macro avg       0.20      0.19      0.19     17237\n",
      "weighted avg       0.41      0.40      0.40     17237\n",
      "\n"
     ]
    }
   ],
   "source": [
    "clf_tree = tree.DecisionTreeClassifier()\n",
    "clf_tree = clf_tree.fit(X_train, y_train)\n",
    "y_pred_tree = clf_tree.predict(X_test)\n",
    "print(\"Post RF feature selection - Accuracy for single train test split for decision tree:\",metrics.accuracy_score(y_test, y_pred_tree))\n",
    "print(metrics.classification_report(y_test, y_pred_tree))"
   ]
  },
  {
   "cell_type": "code",
   "execution_count": 116,
   "id": "97615c57",
   "metadata": {},
   "outputs": [
    {
     "name": "stdout",
     "output_type": "stream",
     "text": [
      " Post RF Featuer Selection  - Accuracy for random forest: 0.4848291466032372\n"
     ]
    }
   ],
   "source": [
    "clf_random =  RandomForestClassifier(n_estimators=10, \n",
    "                                     max_features=10,\n",
    "                                     min_samples_split=2,\n",
    "                                     criterion=\"entropy\",\n",
    "                                     random_state=10,\n",
    "                                     n_jobs=-1)\n",
    "clf_random = clf_random.fit(X_train,y_train)\n",
    "y_pred_random = clf_random.predict(X_test)\n",
    "print(\" Post RF Featuer Selection  - Accuracy for random forest:\",metrics.accuracy_score(y_test, y_pred_random))"
   ]
  },
  {
   "cell_type": "code",
   "execution_count": 117,
   "id": "af889176",
   "metadata": {},
   "outputs": [
    {
     "name": "stdout",
     "output_type": "stream",
     "text": [
      "Post RF Featuer Selection - Accuracy for KNN at K =10: 0.4077855775366943\n"
     ]
    }
   ],
   "source": [
    "knn = KNeighborsClassifier(n_neighbors=10)\n",
    "knn = knn.fit(X_train,y_train)\n",
    "pred_knn = knn.predict(X_test)\n",
    "print(\"Post RF Featuer Selection - Accuracy for KNN at K =10:\",metrics.accuracy_score(y_test, pred_knn))"
   ]
  },
  {
   "cell_type": "code",
   "execution_count": 118,
   "id": "88690fcf",
   "metadata": {},
   "outputs": [
    {
     "name": "stdout",
     "output_type": "stream",
     "text": [
      "Post RF Feature Selection - Accuracy for NaiveBayes: 0.3147299414051169\n"
     ]
    }
   ],
   "source": [
    "trf_preproc = make_column_transformer(\n",
    "    (MinMaxScaler(), make_column_selector(dtype_include=np.integer))\n",
    ")\n",
    "clf_gaussian = make_pipeline(trf_preproc,GaussianNB())\n",
    "clf_gaussian.fit(X_train, y_train)\n",
    "y_pred_gaussian = clf_gaussian.predict(X_test)\n",
    "print(\"Post RF Feature Selection - Accuracy for NaiveBayes:\",metrics.accuracy_score(y_test, y_pred_gaussian))"
   ]
  },
  {
   "cell_type": "code",
   "execution_count": 119,
   "id": "4eab2a35",
   "metadata": {},
   "outputs": [
    {
     "name": "stdout",
     "output_type": "stream",
     "text": [
      "Post RF Feature Selection - Multi nomial NB Accuracy: 0.267331902303185\n"
     ]
    }
   ],
   "source": [
    "clf_multinomial = make_pipeline(trf_preproc, MultinomialNB())\n",
    "clf_multinomial.fit(X_train, y_train)\n",
    "y_pred_multi = clf_multinomial.predict(X_test)\n",
    "print(\"Post RF Feature Selection - Multi nomial NB Accuracy:\",metrics.accuracy_score(y_test, y_pred_multi))"
   ]
  },
  {
   "cell_type": "code",
   "execution_count": 120,
   "id": "24fac0ac",
   "metadata": {},
   "outputs": [
    {
     "name": "stderr",
     "output_type": "stream",
     "text": [
      "C:\\Users\\anush\\anaconda3\\lib\\site-packages\\sklearn\\linear_model\\_logistic.py:814: ConvergenceWarning: lbfgs failed to converge (status=1):\n",
      "STOP: TOTAL NO. of ITERATIONS REACHED LIMIT.\n",
      "\n",
      "Increase the number of iterations (max_iter) or scale the data as shown in:\n",
      "    https://scikit-learn.org/stable/modules/preprocessing.html\n",
      "Please also refer to the documentation for alternative solver options:\n",
      "    https://scikit-learn.org/stable/modules/linear_model.html#logistic-regression\n",
      "C:\\Users\\anush\\anaconda3\\lib\\site-packages\\sklearn\\linear_model\\_logistic.py:814: ConvergenceWarning: lbfgs failed to converge (status=1):\n",
      "STOP: TOTAL NO. of ITERATIONS REACHED LIMIT.\n",
      "\n",
      "Increase the number of iterations (max_iter) or scale the data as shown in:\n",
      "    https://scikit-learn.org/stable/modules/preprocessing.html\n",
      "Please also refer to the documentation for alternative solver options:\n",
      "    https://scikit-learn.org/stable/modules/linear_model.html#logistic-regression\n",
      "C:\\Users\\anush\\anaconda3\\lib\\site-packages\\sklearn\\linear_model\\_logistic.py:814: ConvergenceWarning: lbfgs failed to converge (status=1):\n",
      "STOP: TOTAL NO. of ITERATIONS REACHED LIMIT.\n",
      "\n",
      "Increase the number of iterations (max_iter) or scale the data as shown in:\n",
      "    https://scikit-learn.org/stable/modules/preprocessing.html\n",
      "Please also refer to the documentation for alternative solver options:\n",
      "    https://scikit-learn.org/stable/modules/linear_model.html#logistic-regression\n",
      "C:\\Users\\anush\\anaconda3\\lib\\site-packages\\sklearn\\linear_model\\_logistic.py:814: ConvergenceWarning: lbfgs failed to converge (status=1):\n",
      "STOP: TOTAL NO. of ITERATIONS REACHED LIMIT.\n",
      "\n",
      "Increase the number of iterations (max_iter) or scale the data as shown in:\n",
      "    https://scikit-learn.org/stable/modules/preprocessing.html\n",
      "Please also refer to the documentation for alternative solver options:\n",
      "    https://scikit-learn.org/stable/modules/linear_model.html#logistic-regression\n",
      "C:\\Users\\anush\\anaconda3\\lib\\site-packages\\sklearn\\linear_model\\_logistic.py:814: ConvergenceWarning: lbfgs failed to converge (status=1):\n",
      "STOP: TOTAL NO. of ITERATIONS REACHED LIMIT.\n",
      "\n",
      "Increase the number of iterations (max_iter) or scale the data as shown in:\n",
      "    https://scikit-learn.org/stable/modules/preprocessing.html\n",
      "Please also refer to the documentation for alternative solver options:\n",
      "    https://scikit-learn.org/stable/modules/linear_model.html#logistic-regression\n",
      "C:\\Users\\anush\\anaconda3\\lib\\site-packages\\sklearn\\linear_model\\_logistic.py:814: ConvergenceWarning: lbfgs failed to converge (status=1):\n",
      "STOP: TOTAL NO. of ITERATIONS REACHED LIMIT.\n",
      "\n",
      "Increase the number of iterations (max_iter) or scale the data as shown in:\n",
      "    https://scikit-learn.org/stable/modules/preprocessing.html\n",
      "Please also refer to the documentation for alternative solver options:\n",
      "    https://scikit-learn.org/stable/modules/linear_model.html#logistic-regression\n",
      "C:\\Users\\anush\\anaconda3\\lib\\site-packages\\sklearn\\linear_model\\_logistic.py:814: ConvergenceWarning: lbfgs failed to converge (status=1):\n",
      "STOP: TOTAL NO. of ITERATIONS REACHED LIMIT.\n",
      "\n",
      "Increase the number of iterations (max_iter) or scale the data as shown in:\n",
      "    https://scikit-learn.org/stable/modules/preprocessing.html\n",
      "Please also refer to the documentation for alternative solver options:\n",
      "    https://scikit-learn.org/stable/modules/linear_model.html#logistic-regression\n",
      "C:\\Users\\anush\\anaconda3\\lib\\site-packages\\sklearn\\linear_model\\_logistic.py:814: ConvergenceWarning: lbfgs failed to converge (status=1):\n",
      "STOP: TOTAL NO. of ITERATIONS REACHED LIMIT.\n",
      "\n",
      "Increase the number of iterations (max_iter) or scale the data as shown in:\n",
      "    https://scikit-learn.org/stable/modules/preprocessing.html\n",
      "Please also refer to the documentation for alternative solver options:\n",
      "    https://scikit-learn.org/stable/modules/linear_model.html#logistic-regression\n",
      "C:\\Users\\anush\\anaconda3\\lib\\site-packages\\sklearn\\linear_model\\_logistic.py:814: ConvergenceWarning: lbfgs failed to converge (status=1):\n",
      "STOP: TOTAL NO. of ITERATIONS REACHED LIMIT.\n",
      "\n",
      "Increase the number of iterations (max_iter) or scale the data as shown in:\n",
      "    https://scikit-learn.org/stable/modules/preprocessing.html\n",
      "Please also refer to the documentation for alternative solver options:\n",
      "    https://scikit-learn.org/stable/modules/linear_model.html#logistic-regression\n",
      "C:\\Users\\anush\\anaconda3\\lib\\site-packages\\sklearn\\linear_model\\_logistic.py:814: ConvergenceWarning: lbfgs failed to converge (status=1):\n",
      "STOP: TOTAL NO. of ITERATIONS REACHED LIMIT.\n",
      "\n",
      "Increase the number of iterations (max_iter) or scale the data as shown in:\n",
      "    https://scikit-learn.org/stable/modules/preprocessing.html\n",
      "Please also refer to the documentation for alternative solver options:\n",
      "    https://scikit-learn.org/stable/modules/linear_model.html#logistic-regression\n",
      "C:\\Users\\anush\\anaconda3\\lib\\site-packages\\sklearn\\linear_model\\_logistic.py:814: ConvergenceWarning: lbfgs failed to converge (status=1):\n",
      "STOP: TOTAL NO. of ITERATIONS REACHED LIMIT.\n",
      "\n",
      "Increase the number of iterations (max_iter) or scale the data as shown in:\n",
      "    https://scikit-learn.org/stable/modules/preprocessing.html\n",
      "Please also refer to the documentation for alternative solver options:\n",
      "    https://scikit-learn.org/stable/modules/linear_model.html#logistic-regression\n",
      "C:\\Users\\anush\\anaconda3\\lib\\site-packages\\sklearn\\linear_model\\_logistic.py:814: ConvergenceWarning: lbfgs failed to converge (status=1):\n",
      "STOP: TOTAL NO. of ITERATIONS REACHED LIMIT.\n",
      "\n",
      "Increase the number of iterations (max_iter) or scale the data as shown in:\n",
      "    https://scikit-learn.org/stable/modules/preprocessing.html\n",
      "Please also refer to the documentation for alternative solver options:\n",
      "    https://scikit-learn.org/stable/modules/linear_model.html#logistic-regression\n"
     ]
    },
    {
     "name": "stdout",
     "output_type": "stream",
     "text": [
      "Post RF Feature Selection - Accuracy of logistic regression: 0.4341822822997041\n"
     ]
    },
    {
     "name": "stderr",
     "output_type": "stream",
     "text": [
      "C:\\Users\\anush\\anaconda3\\lib\\site-packages\\sklearn\\linear_model\\_logistic.py:814: ConvergenceWarning: lbfgs failed to converge (status=1):\n",
      "STOP: TOTAL NO. of ITERATIONS REACHED LIMIT.\n",
      "\n",
      "Increase the number of iterations (max_iter) or scale the data as shown in:\n",
      "    https://scikit-learn.org/stable/modules/preprocessing.html\n",
      "Please also refer to the documentation for alternative solver options:\n",
      "    https://scikit-learn.org/stable/modules/linear_model.html#logistic-regression\n"
     ]
    }
   ],
   "source": [
    "from sklearn import linear_model\n",
    "clf = linear_model.LogisticRegression(solver=\"lbfgs\", multi_class=\"ovr\")\n",
    "clf.fit(X_train, y_train)\n",
    "y_logistic = clf.predict(X_test)\n",
    "print(\"Post RF Feature Selection - Accuracy of logistic regression:\",metrics.accuracy_score(y_test, y_logistic))"
   ]
  },
  {
   "cell_type": "code",
   "execution_count": 121,
   "id": "d77e06c5",
   "metadata": {},
   "outputs": [
    {
     "name": "stdout",
     "output_type": "stream",
     "text": [
      "Confusion Matrix for Gradient Boost:\n",
      "[[2637 1179  540   84   61   74    0    5    0    1    3    1    0]\n",
      " [ 788 3153  199   50   63   26    0    2    0    1    3    2    0]\n",
      " [1197  400 1212  138   65  150    1    3    0    0    0    1    0]\n",
      " [ 153  134  267 1198   34  132    1    2    0    1    1    1    0]\n",
      " [ 407  300  282   49  174  117    0    2    0    0    0    3    0]\n",
      " [ 249   99  255  111   97  262    0    2    0    1    1    1    0]\n",
      " [  71   67  102   29    6   27    0    0    0    0    1    1    0]\n",
      " [   9  145    6    2    3    9    0   11    0    0    0    0    0]\n",
      " [  12  118    8    4    1    1    0    1    1    1    0    0    0]\n",
      " [  34   53   23   15    8    7    0    0    0    0    0    0    0]\n",
      " [  11   41    5    5    2    2    0    0    0    0    0    0    0]\n",
      " [   3    3   12    0    1    0    0    0    0    0    0    0    0]\n",
      " [   0    0    1    0    0    0    0    0    0    0    0    0    0]]\n",
      "Classification Report for Gradient Boost\n",
      "              precision    recall  f1-score   support\n",
      "\n",
      "         0.0       0.47      0.58      0.52      4585\n",
      "         1.0       0.55      0.74      0.63      4287\n",
      "         2.0       0.42      0.38      0.40      3167\n",
      "         3.0       0.71      0.62      0.66      1924\n",
      "         4.0       0.34      0.13      0.19      1334\n",
      "         5.0       0.32      0.24      0.28      1078\n",
      "         6.0       0.00      0.00      0.00       304\n",
      "         7.0       0.39      0.06      0.10       185\n",
      "         8.0       1.00      0.01      0.01       147\n",
      "         9.0       0.00      0.00      0.00       140\n",
      "        10.0       0.00      0.00      0.00        66\n",
      "        11.0       0.00      0.00      0.00        19\n",
      "        12.0       0.00      0.00      0.00         1\n",
      "\n",
      "    accuracy                           0.50     17237\n",
      "   macro avg       0.32      0.21      0.22     17237\n",
      "weighted avg       0.48      0.50      0.48     17237\n",
      "\n"
     ]
    },
    {
     "name": "stderr",
     "output_type": "stream",
     "text": [
      "C:\\Users\\anush\\anaconda3\\lib\\site-packages\\sklearn\\metrics\\_classification.py:1318: UndefinedMetricWarning: Precision and F-score are ill-defined and being set to 0.0 in labels with no predicted samples. Use `zero_division` parameter to control this behavior.\n",
      "C:\\Users\\anush\\anaconda3\\lib\\site-packages\\sklearn\\metrics\\_classification.py:1318: UndefinedMetricWarning: Precision and F-score are ill-defined and being set to 0.0 in labels with no predicted samples. Use `zero_division` parameter to control this behavior.\n",
      "C:\\Users\\anush\\anaconda3\\lib\\site-packages\\sklearn\\metrics\\_classification.py:1318: UndefinedMetricWarning: Precision and F-score are ill-defined and being set to 0.0 in labels with no predicted samples. Use `zero_division` parameter to control this behavior.\n"
     ]
    }
   ],
   "source": [
    "gb_clf2 = GradientBoostingClassifier(n_estimators=20, learning_rate=0.5, max_features=2, max_depth=2, random_state=0)\n",
    "gb_clf2.fit(X_train, y_train)\n",
    "predictions = gb_clf2.predict(X_test)\n",
    "print(\"Confusion Matrix for Gradient Boost:\")\n",
    "print(confusion_matrix(y_test, predictions))\n",
    "\n",
    "print(\"Classification Report for Gradient Boost\")\n",
    "print(classification_report(y_test, predictions))"
   ]
  },
  {
   "cell_type": "code",
   "execution_count": 122,
   "id": "d7944b95",
   "metadata": {},
   "outputs": [
    {
     "name": "stdout",
     "output_type": "stream",
     "text": [
      "Post RF Feature Selection - Accuracy of gradeint boost: 0.5017114347044149\n"
     ]
    }
   ],
   "source": [
    "print(\"Post RF Feature Selection - Accuracy of gradeint boost:\",metrics.accuracy_score(y_test, predictions))"
   ]
  },
  {
   "cell_type": "code",
   "execution_count": 123,
   "id": "84aa0c04",
   "metadata": {},
   "outputs": [
    {
     "name": "stdout",
     "output_type": "stream",
     "text": [
      "Learning rate:  0.05\n",
      "Accuracy score (training): 0.424\n",
      "Accuracy score (validation): 0.419\n",
      "Learning rate:  0.075\n",
      "Accuracy score (training): 0.443\n",
      "Accuracy score (validation): 0.439\n",
      "Learning rate:  0.1\n",
      "Accuracy score (training): 0.455\n",
      "Accuracy score (validation): 0.452\n",
      "Learning rate:  0.25\n",
      "Accuracy score (training): 0.492\n",
      "Accuracy score (validation): 0.490\n",
      "Learning rate:  0.5\n",
      "Accuracy score (training): 0.504\n",
      "Accuracy score (validation): 0.502\n",
      "Learning rate:  0.75\n",
      "Accuracy score (training): 0.087\n",
      "Accuracy score (validation): 0.087\n",
      "Learning rate:  1\n",
      "Accuracy score (training): 0.076\n",
      "Accuracy score (validation): 0.072\n"
     ]
    }
   ],
   "source": [
    "lr_list = [0.05, 0.075, 0.1, 0.25, 0.5, 0.75, 1]\n",
    "\n",
    "for learning_rate in lr_list:\n",
    "    gb_clf = GradientBoostingClassifier(n_estimators=20, learning_rate=learning_rate, max_features=2, max_depth=2, random_state=0)\n",
    "    gb_clf.fit(X_train, y_train)\n",
    "\n",
    "    print(\"Learning rate: \", learning_rate)\n",
    "    print(\"Accuracy score (training): {0:.3f}\".format(gb_clf.score(X_train, y_train)))\n",
    "    print(\"Accuracy score (validation): {0:.3f}\".format(gb_clf.score(X_test, y_test)))"
   ]
  },
  {
   "cell_type": "markdown",
   "id": "989e4828",
   "metadata": {},
   "source": [
    "### Balance the dataset "
   ]
  },
  {
   "cell_type": "code",
   "execution_count": 192,
   "id": "2704d460",
   "metadata": {},
   "outputs": [
    {
     "data": {
      "text/plain": [
       "<AxesSubplot:>"
      ]
     },
     "execution_count": 192,
     "metadata": {},
     "output_type": "execute_result"
    },
    {
     "data": {
      "image/png": "[encoded data removed]",
      "text/plain": [
       "<Figure size 432x288 with 1 Axes>"
      ]
     },
     "metadata": {
      "needs_background": "light"
     },
     "output_type": "display_data"
    }
   ],
   "source": [
    "y.value_counts().plot(kind='bar')"
   ]
  },
  {
   "cell_type": "code",
   "execution_count": 202,
   "id": "de8887a2",
   "metadata": {},
   "outputs": [],
   "source": [
    "X=final[cols]"
   ]
  },
  {
   "cell_type": "code",
   "execution_count": 203,
   "id": "13350832",
   "metadata": {},
   "outputs": [],
   "source": [
    "from imblearn.over_sampling import SMOTE\n",
    "from collections import Counter\n",
    "from matplotlib import pyplot\n",
    "from sklearn.preprocessing import LabelEncoder\n",
    "\n",
    "Y = LabelEncoder().fit_transform(y)"
   ]
  },
  {
   "cell_type": "code",
   "execution_count": 204,
   "id": "28fbd4cd",
   "metadata": {},
   "outputs": [],
   "source": [
    "oversample = SMOTE()"
   ]
  },
  {
   "cell_type": "code",
   "execution_count": 205,
   "id": "f4ec70b8",
   "metadata": {},
   "outputs": [],
   "source": [
    "X, Y = oversample.fit_resample(X, Y)"
   ]
  },
  {
   "cell_type": "code",
   "execution_count": 206,
   "id": "43727d11",
   "metadata": {},
   "outputs": [
    {
     "name": "stdout",
     "output_type": "stream",
     "text": [
      "Class=3, n=18204 (7.692%)\n",
      "Class=2, n=18204 (7.692%)\n",
      "Class=7, n=18204 (7.692%)\n",
      "Class=1, n=18204 (7.692%)\n",
      "Class=0, n=18204 (7.692%)\n",
      "Class=5, n=18204 (7.692%)\n",
      "Class=4, n=18204 (7.692%)\n",
      "Class=8, n=18204 (7.692%)\n",
      "Class=6, n=18204 (7.692%)\n",
      "Class=9, n=18204 (7.692%)\n",
      "Class=11, n=18204 (7.692%)\n",
      "Class=10, n=18204 (7.692%)\n",
      "Class=12, n=18204 (7.692%)\n"
     ]
    },
    {
     "data": {
      "image/png": "[encoded data removed]",
      "text/plain": [
       "<Figure size 432x288 with 1 Axes>"
      ]
     },
     "metadata": {
      "needs_background": "light"
     },
     "output_type": "display_data"
    }
   ],
   "source": [
    "counter = Counter(Y)\n",
    "for k,v in counter.items():\n",
    "    per = v / len(Y) * 100\n",
    "    print('Class=%d, n=%d (%.3f%%)' % (k, v, per))\n",
    "# plot the distribution\n",
    "pyplot.bar(counter.keys(), counter.values())\n",
    "pyplot.show()"
   ]
  },
  {
   "cell_type": "code",
   "execution_count": 207,
   "id": "73012658",
   "metadata": {},
   "outputs": [],
   "source": [
    "X_train, X_test, y_train, y_test = train_test_split(X, Y, test_size=0.25, random_state = 200)"
   ]
  },
  {
   "cell_type": "code",
   "execution_count": 208,
   "id": "5d04aad8",
   "metadata": {},
   "outputs": [
    {
     "name": "stdout",
     "output_type": "stream",
     "text": [
      "Post balancing the data - Accuracy for single train test split for decision tree: 0.7002349441373832\n",
      "              precision    recall  f1-score   support\n",
      "\n",
      "           0       0.42      0.43      0.42      4549\n",
      "           1       0.50      0.48      0.49      4530\n",
      "           2       0.34      0.34      0.34      4605\n",
      "           3       0.72      0.66      0.69      4517\n",
      "           4       0.48      0.46      0.47      4616\n",
      "           5       0.54      0.51      0.53      4566\n",
      "           6       0.68      0.71      0.70      4491\n",
      "           7       0.86      0.88      0.87      4532\n",
      "           8       0.86      0.89      0.87      4608\n",
      "           9       0.80      0.84      0.82      4521\n",
      "          10       0.89      0.94      0.91      4505\n",
      "          11       0.96      0.99      0.98      4580\n",
      "          12       1.00      1.00      1.00      4543\n",
      "\n",
      "    accuracy                           0.70     59163\n",
      "   macro avg       0.70      0.70      0.70     59163\n",
      "weighted avg       0.70      0.70      0.70     59163\n",
      "\n"
     ]
    }
   ],
   "source": [
    "clf_tree = tree.DecisionTreeClassifier()\n",
    "clf_tree = clf_tree.fit(X_train, y_train)\n",
    "y_pred_tree = clf_tree.predict(X_test)\n",
    "print(\"Post balancing the data - Accuracy for single train test split for decision tree:\",metrics.accuracy_score(y_test, y_pred_tree))\n",
    "print(metrics.classification_report(y_test, y_pred_tree))"
   ]
  },
  {
   "cell_type": "code",
   "execution_count": 209,
   "id": "5bee4967",
   "metadata": {},
   "outputs": [
    {
     "name": "stdout",
     "output_type": "stream",
     "text": [
      " Post  balancing the data  - Accuracy for random forest: 0.7875192265436168\n",
      "              precision    recall  f1-score   support\n",
      "\n",
      "           0       0.41      0.51      0.45      4549\n",
      "           1       0.52      0.60      0.56      4530\n",
      "           2       0.44      0.36      0.40      4605\n",
      "           3       0.76      0.78      0.77      4517\n",
      "           4       0.69      0.60      0.65      4616\n",
      "           5       0.73      0.66      0.69      4566\n",
      "           6       0.88      0.87      0.87      4491\n",
      "           7       0.94      0.98      0.96      4532\n",
      "           8       0.96      0.97      0.97      4608\n",
      "           9       0.97      0.95      0.96      4521\n",
      "          10       0.99      0.98      0.99      4505\n",
      "          11       1.00      1.00      1.00      4580\n",
      "          12       1.00      1.00      1.00      4543\n",
      "\n",
      "    accuracy                           0.79     59163\n",
      "   macro avg       0.79      0.79      0.79     59163\n",
      "weighted avg       0.79      0.79      0.79     59163\n",
      "\n"
     ]
    }
   ],
   "source": [
    "clf_random =  RandomForestClassifier(n_estimators=10, \n",
    "                                     max_features=10,\n",
    "                                     min_samples_split=2,\n",
    "                                     criterion=\"entropy\",\n",
    "                                     random_state=10,\n",
    "                                     n_jobs=-1)\n",
    "clf_random = clf_random.fit(X_train,y_train)\n",
    "y_pred_random = clf_random.predict(X_test)\n",
    "print(\" Post  balancing the data  - Accuracy for random forest:\",metrics.accuracy_score(y_test, y_pred_random))\n",
    "print(metrics.classification_report(y_test, y_pred_random))"
   ]
  },
  {
   "cell_type": "code",
   "execution_count": 210,
   "id": "04470f4f",
   "metadata": {},
   "outputs": [
    {
     "name": "stdout",
     "output_type": "stream",
     "text": [
      "Post balancing the data - Accuracy for KNN at K =10: 0.738045738045738\n",
      "              precision    recall  f1-score   support\n",
      "\n",
      "           0       0.48      0.26      0.34      4549\n",
      "           1       0.48      0.30      0.37      4530\n",
      "           2       0.42      0.25      0.31      4605\n",
      "           3       0.75      0.63      0.68      4517\n",
      "           4       0.60      0.62      0.61      4616\n",
      "           5       0.68      0.70      0.69      4566\n",
      "           6       0.71      0.95      0.81      4491\n",
      "           7       0.76      0.97      0.85      4532\n",
      "           8       0.78      0.97      0.86      4608\n",
      "           9       0.81      0.97      0.89      4521\n",
      "          10       0.84      0.98      0.91      4505\n",
      "          11       0.92      1.00      0.95      4580\n",
      "          12       0.97      1.00      0.99      4543\n",
      "\n",
      "    accuracy                           0.74     59163\n",
      "   macro avg       0.71      0.74      0.71     59163\n",
      "weighted avg       0.71      0.74      0.71     59163\n",
      "\n"
     ]
    }
   ],
   "source": [
    "knn = KNeighborsClassifier(n_neighbors=10)\n",
    "knn = knn.fit(X_train,y_train)\n",
    "pred_knn = knn.predict(X_test)\n",
    "print(\"Post balancing the data - Accuracy for KNN at K =10:\",metrics.accuracy_score(y_test, pred_knn))\n",
    "print(metrics.classification_report(y_test, pred_knn))"
   ]
  },
  {
   "cell_type": "code",
   "execution_count": 211,
   "id": "9113a80c",
   "metadata": {},
   "outputs": [
    {
     "name": "stderr",
     "output_type": "stream",
     "text": [
      "C:\\Users\\anush\\anaconda3\\lib\\site-packages\\sklearn\\linear_model\\_logistic.py:814: ConvergenceWarning: lbfgs failed to converge (status=1):\n",
      "STOP: TOTAL NO. of ITERATIONS REACHED LIMIT.\n",
      "\n",
      "Increase the number of iterations (max_iter) or scale the data as shown in:\n",
      "    https://scikit-learn.org/stable/modules/preprocessing.html\n",
      "Please also refer to the documentation for alternative solver options:\n",
      "    https://scikit-learn.org/stable/modules/linear_model.html#logistic-regression\n",
      "C:\\Users\\anush\\anaconda3\\lib\\site-packages\\sklearn\\linear_model\\_logistic.py:814: ConvergenceWarning: lbfgs failed to converge (status=1):\n",
      "STOP: TOTAL NO. of ITERATIONS REACHED LIMIT.\n",
      "\n",
      "Increase the number of iterations (max_iter) or scale the data as shown in:\n",
      "    https://scikit-learn.org/stable/modules/preprocessing.html\n",
      "Please also refer to the documentation for alternative solver options:\n",
      "    https://scikit-learn.org/stable/modules/linear_model.html#logistic-regression\n",
      "C:\\Users\\anush\\anaconda3\\lib\\site-packages\\sklearn\\linear_model\\_logistic.py:814: ConvergenceWarning: lbfgs failed to converge (status=1):\n",
      "STOP: TOTAL NO. of ITERATIONS REACHED LIMIT.\n",
      "\n",
      "Increase the number of iterations (max_iter) or scale the data as shown in:\n",
      "    https://scikit-learn.org/stable/modules/preprocessing.html\n",
      "Please also refer to the documentation for alternative solver options:\n",
      "    https://scikit-learn.org/stable/modules/linear_model.html#logistic-regression\n",
      "C:\\Users\\anush\\anaconda3\\lib\\site-packages\\sklearn\\linear_model\\_logistic.py:814: ConvergenceWarning: lbfgs failed to converge (status=1):\n",
      "STOP: TOTAL NO. of ITERATIONS REACHED LIMIT.\n",
      "\n",
      "Increase the number of iterations (max_iter) or scale the data as shown in:\n",
      "    https://scikit-learn.org/stable/modules/preprocessing.html\n",
      "Please also refer to the documentation for alternative solver options:\n",
      "    https://scikit-learn.org/stable/modules/linear_model.html#logistic-regression\n",
      "C:\\Users\\anush\\anaconda3\\lib\\site-packages\\sklearn\\linear_model\\_logistic.py:814: ConvergenceWarning: lbfgs failed to converge (status=1):\n",
      "STOP: TOTAL NO. of ITERATIONS REACHED LIMIT.\n",
      "\n",
      "Increase the number of iterations (max_iter) or scale the data as shown in:\n",
      "    https://scikit-learn.org/stable/modules/preprocessing.html\n",
      "Please also refer to the documentation for alternative solver options:\n",
      "    https://scikit-learn.org/stable/modules/linear_model.html#logistic-regression\n",
      "C:\\Users\\anush\\anaconda3\\lib\\site-packages\\sklearn\\linear_model\\_logistic.py:814: ConvergenceWarning: lbfgs failed to converge (status=1):\n",
      "STOP: TOTAL NO. of ITERATIONS REACHED LIMIT.\n",
      "\n",
      "Increase the number of iterations (max_iter) or scale the data as shown in:\n",
      "    https://scikit-learn.org/stable/modules/preprocessing.html\n",
      "Please also refer to the documentation for alternative solver options:\n",
      "    https://scikit-learn.org/stable/modules/linear_model.html#logistic-regression\n",
      "C:\\Users\\anush\\anaconda3\\lib\\site-packages\\sklearn\\linear_model\\_logistic.py:814: ConvergenceWarning: lbfgs failed to converge (status=1):\n",
      "STOP: TOTAL NO. of ITERATIONS REACHED LIMIT.\n",
      "\n",
      "Increase the number of iterations (max_iter) or scale the data as shown in:\n",
      "    https://scikit-learn.org/stable/modules/preprocessing.html\n",
      "Please also refer to the documentation for alternative solver options:\n",
      "    https://scikit-learn.org/stable/modules/linear_model.html#logistic-regression\n",
      "C:\\Users\\anush\\anaconda3\\lib\\site-packages\\sklearn\\linear_model\\_logistic.py:814: ConvergenceWarning: lbfgs failed to converge (status=1):\n",
      "STOP: TOTAL NO. of ITERATIONS REACHED LIMIT.\n",
      "\n",
      "Increase the number of iterations (max_iter) or scale the data as shown in:\n",
      "    https://scikit-learn.org/stable/modules/preprocessing.html\n",
      "Please also refer to the documentation for alternative solver options:\n",
      "    https://scikit-learn.org/stable/modules/linear_model.html#logistic-regression\n",
      "C:\\Users\\anush\\anaconda3\\lib\\site-packages\\sklearn\\linear_model\\_logistic.py:814: ConvergenceWarning: lbfgs failed to converge (status=1):\n",
      "STOP: TOTAL NO. of ITERATIONS REACHED LIMIT.\n",
      "\n",
      "Increase the number of iterations (max_iter) or scale the data as shown in:\n",
      "    https://scikit-learn.org/stable/modules/preprocessing.html\n",
      "Please also refer to the documentation for alternative solver options:\n",
      "    https://scikit-learn.org/stable/modules/linear_model.html#logistic-regression\n",
      "C:\\Users\\anush\\anaconda3\\lib\\site-packages\\sklearn\\linear_model\\_logistic.py:814: ConvergenceWarning: lbfgs failed to converge (status=1):\n",
      "STOP: TOTAL NO. of ITERATIONS REACHED LIMIT.\n",
      "\n",
      "Increase the number of iterations (max_iter) or scale the data as shown in:\n",
      "    https://scikit-learn.org/stable/modules/preprocessing.html\n",
      "Please also refer to the documentation for alternative solver options:\n",
      "    https://scikit-learn.org/stable/modules/linear_model.html#logistic-regression\n",
      "C:\\Users\\anush\\anaconda3\\lib\\site-packages\\sklearn\\linear_model\\_logistic.py:814: ConvergenceWarning: lbfgs failed to converge (status=1):\n",
      "STOP: TOTAL NO. of ITERATIONS REACHED LIMIT.\n",
      "\n",
      "Increase the number of iterations (max_iter) or scale the data as shown in:\n",
      "    https://scikit-learn.org/stable/modules/preprocessing.html\n",
      "Please also refer to the documentation for alternative solver options:\n",
      "    https://scikit-learn.org/stable/modules/linear_model.html#logistic-regression\n",
      "C:\\Users\\anush\\anaconda3\\lib\\site-packages\\sklearn\\linear_model\\_logistic.py:814: ConvergenceWarning: lbfgs failed to converge (status=1):\n",
      "STOP: TOTAL NO. of ITERATIONS REACHED LIMIT.\n",
      "\n",
      "Increase the number of iterations (max_iter) or scale the data as shown in:\n",
      "    https://scikit-learn.org/stable/modules/preprocessing.html\n",
      "Please also refer to the documentation for alternative solver options:\n",
      "    https://scikit-learn.org/stable/modules/linear_model.html#logistic-regression\n",
      "C:\\Users\\anush\\anaconda3\\lib\\site-packages\\sklearn\\linear_model\\_logistic.py:814: ConvergenceWarning: lbfgs failed to converge (status=1):\n",
      "STOP: TOTAL NO. of ITERATIONS REACHED LIMIT.\n",
      "\n",
      "Increase the number of iterations (max_iter) or scale the data as shown in:\n",
      "    https://scikit-learn.org/stable/modules/preprocessing.html\n",
      "Please also refer to the documentation for alternative solver options:\n",
      "    https://scikit-learn.org/stable/modules/linear_model.html#logistic-regression\n"
     ]
    },
    {
     "name": "stdout",
     "output_type": "stream",
     "text": [
      "Post balancing the data - Accuracy of logistic regression: 0.44140763652958775\n",
      "              precision    recall  f1-score   support\n",
      "\n",
      "           0       0.41      0.29      0.34      4549\n",
      "           1       0.28      0.28      0.28      4530\n",
      "           2       0.24      0.07      0.11      4605\n",
      "           3       0.72      0.69      0.70      4517\n",
      "           4       0.38      0.32      0.35      4616\n",
      "           5       0.44      0.38      0.41      4566\n",
      "           6       0.35      0.32      0.34      4491\n",
      "           7       0.42      0.60      0.50      4532\n",
      "           8       0.41      0.48      0.45      4608\n",
      "           9       0.37      0.24      0.29      4521\n",
      "          10       0.33      0.34      0.33      4505\n",
      "          11       0.38      0.76      0.51      4580\n",
      "          12       0.81      0.98      0.89      4543\n",
      "\n",
      "    accuracy                           0.44     59163\n",
      "   macro avg       0.43      0.44      0.42     59163\n",
      "weighted avg       0.43      0.44      0.42     59163\n",
      "\n"
     ]
    }
   ],
   "source": [
    "from sklearn import linear_model\n",
    "clf = linear_model.LogisticRegression(solver=\"lbfgs\", multi_class=\"ovr\")\n",
    "clf.fit(X_train, y_train)\n",
    "y_logistic = clf.predict(X_test)\n",
    "print(\"Post balancing the data - Accuracy of logistic regression:\",metrics.accuracy_score(y_test, y_logistic))\n",
    "print(metrics.classification_report(y_test, y_logistic))"
   ]
  },
  {
   "cell_type": "code",
   "execution_count": 212,
   "id": "0481d700",
   "metadata": {},
   "outputs": [
    {
     "name": "stdout",
     "output_type": "stream",
     "text": [
      "Learning rate:  0.05\n",
      "Accuracy score (training): 0.265\n",
      "Accuracy score (validation): 0.263\n",
      "Learning rate:  0.075\n",
      "Accuracy score (training): 0.268\n",
      "Accuracy score (validation): 0.266\n",
      "Learning rate:  0.1\n",
      "Accuracy score (training): 0.269\n",
      "Accuracy score (validation): 0.268\n",
      "Learning rate:  0.25\n",
      "Accuracy score (training): 0.284\n",
      "Accuracy score (validation): 0.283\n",
      "Learning rate:  0.5\n",
      "Accuracy score (training): 0.294\n",
      "Accuracy score (validation): 0.291\n",
      "Learning rate:  0.75\n",
      "Accuracy score (training): 0.303\n",
      "Accuracy score (validation): 0.300\n",
      "Learning rate:  1\n",
      "Accuracy score (training): 0.304\n",
      "Accuracy score (validation): 0.299\n"
     ]
    }
   ],
   "source": [
    "lr_list = [0.05, 0.075, 0.1, 0.25, 0.5, 0.75, 1]\n",
    "\n",
    "for learning_rate in lr_list:\n",
    "    gb_clf = GradientBoostingClassifier(n_estimators=20, learning_rate=learning_rate, max_features=2, max_depth=2, random_state=0)\n",
    "    gb_clf.fit(X_train, y_train)\n",
    "\n",
    "    print(\"Learning rate: \", learning_rate)\n",
    "    print(\"Accuracy score (training): {0:.3f}\".format(gb_clf.score(X_train, y_train)))\n",
    "    print(\"Accuracy score (validation): {0:.3f}\".format(gb_clf.score(X_test, y_test)))"
   ]
  },
  {
   "cell_type": "code",
   "execution_count": 213,
   "id": "2bfb6572",
   "metadata": {},
   "outputs": [
    {
     "name": "stdout",
     "output_type": "stream",
     "text": [
      "Post balancing the data - Accuracy of gradeint boost: 0.298649493771445\n"
     ]
    }
   ],
   "source": [
    "gb_clf2 = GradientBoostingClassifier(n_estimators=20, learning_rate=1, max_features=2, max_depth=2, random_state=0)\n",
    "gb_clf2.fit(X_train, y_train)\n",
    "predictions = gb_clf2.predict(X_test)\n",
    "print(\"Post balancing the data - Accuracy of gradeint boost:\",metrics.accuracy_score(y_test, predictions))"
   ]
  },
  {
   "cell_type": "markdown",
   "id": "26c96f58",
   "metadata": {},
   "source": [
    "### On ICU Patients"
   ]
  },
  {
   "cell_type": "code",
   "execution_count": 219,
   "id": "62448a73",
   "metadata": {},
   "outputs": [],
   "source": [
    "def test_func(labs):\n",
    "#     print('====')\n",
    "    labs['totalamount'] = labs['totalamount'].apply(pd.to_numeric)\n",
    "    labs_num = labs[labs['totalamount'].notna()]\n",
    "    labs_cat = labs[labs['totalamount'].isna()]\n",
    "#     print(labs.shape,labs_num.shape, labs_cat.shape) # to debug divide between cat and num\n",
    "#     print(t)\n",
    "    if labs_num.shape[0]>0:\n",
    "    \n",
    "        gr = labs_num.groupby('itemid')\n",
    "        d_max = pd.DataFrame(gr['totalamount'].max()).T\n",
    "        #d_mean  = pd.DataFrame(gr['totalamount'].mean()).T\n",
    "        d_min = pd.DataFrame(gr['totalamount'].min()).T\n",
    "        #d_sd = pd.DataFrame(gr['totalamount'].std()).T\n",
    "        #d_s = pd.DataFrame(gr['totalamount'].count()).T\n",
    "       # d_sd = d_sd.fillna('stdna')\n",
    "        \n",
    "        d_max.columns = [str(col)+\"_max\" for col in d_max.columns]\n",
    "        #d_mean.columns = [str(col)+\"_mean\" for col in d_mean.columns]\n",
    "        d_min.columns = [str(col)+\"_min\" for col in d_min.columns]\n",
    "        #d_sd.columns = [str(col)+\"_std\" for col in d_sd.columns]\n",
    "        #d_num = pd.concat([d_max,d_mean,d_min,d_sd,d_s], axis=1)\n",
    "        d_num = pd.concat([d_max,d_min], axis=1)\n",
    "        #d_sds.append(d_num)\n",
    "\n",
    "\n",
    "    if labs_cat.shape[0] > 0:\n",
    "        labs_cat_gr = labs_cat.groupby('itemid')\n",
    "        te = labs_cat_gr.apply(create_dummies)\n",
    "        d_cat = pd.DataFrame(te).T\n",
    "        if len(d_cat.columns[0])==2:\n",
    "            d_cat.columns = d_cat.columns.droplevel()           \n",
    "        else:\n",
    "            d_cat = d_cat.T\n",
    "        d_cat.index = ['totalamount']\n",
    "\n",
    "    if labs_cat.shape[0]>0 and labs_num.shape[0]>0:\n",
    "        d = pd.concat([d_cat,d_num], axis=1)\n",
    "    elif labs_cat.shape[0]>0:\n",
    "        d = d_cat\n",
    "    elif labs_num.shape[0]>0:\n",
    "        d = d_num\n",
    "\n",
    "    d['weight'] =labs['patientweight'].iloc[0]\n",
    "    \n",
    "    l = labs['hadm_id'][0]\n",
    "    d['admission_location']= adms[adms['hadm_id']==l].iloc[0][6]\n",
    "    d['discharge_location']= adms[adms['hadm_id']==l].iloc[0][7]\n",
    "    d['admission_type']= adms[adms['hadm_id']==l].iloc[0][5]\n",
    "    d['admission_type']= adms[adms['hadm_id']==l].iloc[0][5]\n",
    "    d['insurance']= adms[adms['hadm_id']==l].iloc[0][8]\n",
    "    #d['language']= adms[adms['hadm_id']==l].iloc[0][9]\n",
    "    d['marital_status']= adms[adms['hadm_id']==l].iloc[0][10]\n",
    "    d['ethnicity']= adms[adms['hadm_id']==l].iloc[0][11]\n",
    "    d['los_hrs']= adms[adms['hadm_id']==l].iloc[0][15]\n",
    "    d['first_careunit']= icustays[icustays['hadm_id']==l].iloc[0][3]\n",
    "    d['last_careunit']= icustays[icustays['hadm_id']==l].iloc[0][4]\n",
    "    \n",
    "    m = labs['subject_id'][0]\n",
    "    d['gender']= patients[patients['subject_id']==m].iloc[0][1]\n",
    "    d['age_group']= patients[patients['subject_id']==m].iloc[0][6]\n",
    "    \n",
    "   # print(d['admission_location'])\n",
    "    \n",
    "    #d['admission_location']= adms['admission_location'].iloc[0]\n",
    "    #d['discharge_location']=adms['discharge_location'].iloc[0]\n",
    "   # d['admission_type']=adms['admission_type'].iloc[0]\n",
    "   # d['insurance']=adms['insurance'].iloc[0]\n",
    "    #print(details['insurance'].iloc[0])\n",
    "    #d['first_careunit']=icustays['first_careunit'].iloc[0]\n",
    "    #d['last_careunit']=icustays['last_careunit'].iloc[0]\n",
    "   # d['marital_status']=adms['marital_status'].iloc[0]\n",
    "    #d['insurance']=adms['insurance'].iloc[0]\n",
    "    #d['gender']=patients['gender'].iloc[0]\n",
    "    #d['ethnicity']=adms['ethnicity'].iloc[0]\n",
    "    d['hadm_id']=labs['hadm_id'].iloc[0]\n",
    "    \n",
    "    return d\n"
   ]
  },
  {
   "cell_type": "code",
   "execution_count": null,
   "id": "26c80b24",
   "metadata": {},
   "outputs": [],
   "source": []
  },
  {
   "cell_type": "code",
   "execution_count": null,
   "id": "f1bb28ed",
   "metadata": {},
   "outputs": [],
   "source": []
  },
  {
   "cell_type": "code",
   "execution_count": null,
   "id": "0e15a05f",
   "metadata": {},
   "outputs": [],
   "source": []
  },
  {
   "cell_type": "code",
   "execution_count": null,
   "id": "aef7a440",
   "metadata": {},
   "outputs": [],
   "source": []
  },
  {
   "cell_type": "code",
   "execution_count": null,
   "id": "147f0a0d",
   "metadata": {},
   "outputs": [],
   "source": []
  },
  {
   "cell_type": "code",
   "execution_count": null,
   "id": "f1d2409d",
   "metadata": {},
   "outputs": [],
   "source": []
  },
  {
   "cell_type": "code",
   "execution_count": 214,
   "id": "603efda9",
   "metadata": {},
   "outputs": [],
   "source": [
    "import numpy as np\n",
    "import matplotlib.pyplot as plt\n",
    "from itertools import cycle\n",
    "\n",
    "from sklearn import svm, datasets\n",
    "from sklearn.metrics import roc_curve, auc\n",
    "from sklearn.model_selection import train_test_split\n",
    "from sklearn.preprocessing import label_binarize\n",
    "from sklearn.multiclass import OneVsRestClassifier\n",
    "from sklearn.metrics import roc_auc_score"
   ]
  },
  {
   "cell_type": "code",
   "execution_count": null,
   "id": "efeaebbd",
   "metadata": {},
   "outputs": [],
   "source": [
    "X = X_rf_feat\n",
    "y= rf_feat_y"
   ]
  },
  {
   "cell_type": "code",
   "execution_count": 215,
   "id": "88989198",
   "metadata": {},
   "outputs": [],
   "source": [
    "y = label_binarize(Y, classes=[0, 1, 2,3,4,5,6,7,8,9,10,11,12])\n",
    "n_classes = y.shape[1]"
   ]
  },
  {
   "cell_type": "code",
   "execution_count": 216,
   "id": "4b98345c",
   "metadata": {},
   "outputs": [
    {
     "ename": "MemoryError",
     "evalue": "Unable to allocate 246. GiB for an array with shape (236652, 139800) and data type float64",
     "output_type": "error",
     "traceback": [
      "\u001b[1;31m---------------------------------------------------------------------------\u001b[0m",
      "\u001b[1;31mMemoryError\u001b[0m                               Traceback (most recent call last)",
      "\u001b[1;32m<ipython-input-216-eb57e19068f7>\u001b[0m in \u001b[0;36m<module>\u001b[1;34m\u001b[0m\n\u001b[0;32m      1\u001b[0m \u001b[0mrandom_state\u001b[0m \u001b[1;33m=\u001b[0m \u001b[0mnp\u001b[0m\u001b[1;33m.\u001b[0m\u001b[0mrandom\u001b[0m\u001b[1;33m.\u001b[0m\u001b[0mRandomState\u001b[0m\u001b[1;33m(\u001b[0m\u001b[1;36m0\u001b[0m\u001b[1;33m)\u001b[0m\u001b[1;33m\u001b[0m\u001b[1;33m\u001b[0m\u001b[0m\n\u001b[0;32m      2\u001b[0m \u001b[0mn_samples\u001b[0m\u001b[1;33m,\u001b[0m \u001b[0mn_features\u001b[0m \u001b[1;33m=\u001b[0m \u001b[0mX\u001b[0m\u001b[1;33m.\u001b[0m\u001b[0mshape\u001b[0m\u001b[1;33m\u001b[0m\u001b[1;33m\u001b[0m\u001b[0m\n\u001b[1;32m----> 3\u001b[1;33m \u001b[0mX\u001b[0m \u001b[1;33m=\u001b[0m \u001b[0mnp\u001b[0m\u001b[1;33m.\u001b[0m\u001b[0mc_\u001b[0m\u001b[1;33m[\u001b[0m\u001b[0mX\u001b[0m\u001b[1;33m,\u001b[0m \u001b[0mrandom_state\u001b[0m\u001b[1;33m.\u001b[0m\u001b[0mrandn\u001b[0m\u001b[1;33m(\u001b[0m\u001b[0mn_samples\u001b[0m\u001b[1;33m,\u001b[0m \u001b[1;36m200\u001b[0m \u001b[1;33m*\u001b[0m \u001b[0mn_features\u001b[0m\u001b[1;33m)\u001b[0m\u001b[1;33m]\u001b[0m\u001b[1;33m\u001b[0m\u001b[1;33m\u001b[0m\u001b[0m\n\u001b[0m",
      "\u001b[1;32mmtrand.pyx\u001b[0m in \u001b[0;36mnumpy.random.mtrand.RandomState.randn\u001b[1;34m()\u001b[0m\n",
      "\u001b[1;32mmtrand.pyx\u001b[0m in \u001b[0;36mnumpy.random.mtrand.RandomState.standard_normal\u001b[1;34m()\u001b[0m\n",
      "\u001b[1;32m_common.pyx\u001b[0m in \u001b[0;36mnumpy.random._common.cont\u001b[1;34m()\u001b[0m\n",
      "\u001b[1;31mMemoryError\u001b[0m: Unable to allocate 246. GiB for an array with shape (236652, 139800) and data type float64"
     ]
    }
   ],
   "source": [
    "random_state = np.random.RandomState(0)\n",
    "n_samples, n_features = X.shape\n",
    "X = np.c_[X, random_state.randn(n_samples, 200 * n_features)]"
   ]
  },
  {
   "cell_type": "code",
   "execution_count": 582,
   "id": "a7ea0c8e",
   "metadata": {},
   "outputs": [],
   "source": [
    "X_train, X_test, y_train, y_test = train_test_split(X, y, test_size=0.25, random_state=0)\n"
   ]
  },
  {
   "cell_type": "code",
   "execution_count": 584,
   "id": "9c5df3ba",
   "metadata": {},
   "outputs": [],
   "source": [
    "classifier = OneVsRestClassifier(\n",
    "    svm.SVC(kernel=\"linear\", probability=True, random_state=random_state)\n",
    ")\n",
    "\n"
   ]
  },
  {
   "cell_type": "code",
   "execution_count": 585,
   "id": "666d6a8e",
   "metadata": {},
   "outputs": [
    {
     "name": "stderr",
     "output_type": "stream",
     "text": [
      "C:\\Users\\anush\\anaconda3\\lib\\site-packages\\sklearn\\multiclass.py:80: UserWarning: Label not 12 is present in all training examples.\n"
     ]
    }
   ],
   "source": [
    "y_score = classifier.fit(X_train, y_train).decision_function(X_test)"
   ]
  },
  {
   "cell_type": "code",
   "execution_count": 586,
   "id": "8c78f2cc",
   "metadata": {},
   "outputs": [],
   "source": [
    "fpr = dict()\n",
    "tpr = dict()\n",
    "roc_auc = dict()"
   ]
  },
  {
   "cell_type": "code",
   "execution_count": 587,
   "id": "e1f7fcc1",
   "metadata": {},
   "outputs": [],
   "source": [
    "for i in range(n_classes):\n",
    "    fpr[i], tpr[i], _ = roc_curve(y_test[:, i], y_score[:, i])\n",
    "    roc_auc[i] = auc(fpr[i], tpr[i])"
   ]
  },
  {
   "cell_type": "code",
   "execution_count": 588,
   "id": "8ffd7b25",
   "metadata": {},
   "outputs": [],
   "source": [
    "# Compute micro-average ROC curve and ROC area\n",
    "fpr[\"micro\"], tpr[\"micro\"], _ = roc_curve(y_test.ravel(), y_score.ravel())\n",
    "roc_auc[\"micro\"] = auc(fpr[\"micro\"], tpr[\"micro\"])"
   ]
  },
  {
   "cell_type": "code",
   "execution_count": 589,
   "id": "cdc041eb",
   "metadata": {},
   "outputs": [],
   "source": [
    "all_fpr = np.unique(np.concatenate([fpr[i] for i in range(n_classes)]))\n",
    "\n",
    "# Then interpolate all ROC curves at this points\n",
    "mean_tpr = np.zeros_like(all_fpr)\n",
    "for i in range(n_classes):\n",
    "    mean_tpr += np.interp(all_fpr, fpr[i], tpr[i])\n",
    "\n",
    "# Finally average it and compute AUC\n",
    "mean_tpr /= n_classes\n",
    "\n",
    "fpr[\"macro\"] = all_fpr\n",
    "tpr[\"macro\"] = mean_tpr\n",
    "roc_auc[\"macro\"] = auc(fpr[\"macro\"], tpr[\"macro\"])"
   ]
  },
  {
   "cell_type": "code",
   "execution_count": 599,
   "id": "3ec51e39",
   "metadata": {},
   "outputs": [
    {
     "data": {
      "image/png": "[encoded data removed]",
      "text/plain": [
       "<Figure size 432x288 with 1 Axes>"
      ]
     },
     "metadata": {
      "needs_background": "light"
     },
     "output_type": "display_data"
    }
   ],
   "source": [
    "lw=2\n",
    "# Plot all ROC curves\n",
    "plt.figure()\n",
    "plt.plot(\n",
    "    fpr[\"micro\"],\n",
    "    tpr[\"micro\"],\n",
    "    label=\"micro-average ROC curve (area = {0:0.2f})\".format(roc_auc[\"micro\"]),\n",
    "    color=\"deeppink\",\n",
    "    linestyle=\":\",\n",
    "    linewidth=4,\n",
    ")\n",
    "\n",
    "plt.plot(\n",
    "    fpr[\"macro\"],\n",
    "    tpr[\"macro\"],\n",
    "    label=\"macro-average ROC curve (area = {0:0.2f})\".format(roc_auc[\"macro\"]),\n",
    "    color=\"navy\",\n",
    "    linestyle=\":\",\n",
    "    linewidth=4,\n",
    ")\n",
    "\n",
    "colors = cycle([\"aqua\", \"darkorange\", \"cornflowerblue\",\"pink\",\"red\",\"yellow\",\"teal\",\"green\",\"brown\",\"violet\",\"purple\",\"indigo\",\"grey\"])\n",
    "for i, color in zip(range(n_classes), colors):\n",
    "    plt.plot(\n",
    "        fpr[i],\n",
    "        tpr[i],\n",
    "        color=color,\n",
    "        lw=lw,\n",
    "        label=\"ROC curve of class {0} (area = {1:0.2f})\".format(i, roc_auc[i]),\n",
    "    )\n",
    "\n",
    "plt.plot([0, 5], [0, 5], \"k--\", lw=lw)\n",
    "plt.xlim([0.0, 1.0])\n",
    "plt.ylim([0.0, 1.05])\n",
    "plt.xlabel(\"False Positive Rate\")\n",
    "plt.ylabel(\"True Positive Rate\")\n",
    "plt.title(\"Some extension of Receiver operating characteristic to multiclass\")\n",
    "plt.legend(loc=\"lower right\")\n",
    "plt.show()"
   ]
  },
  {
   "cell_type": "code",
   "execution_count": null,
   "id": "a9fbace7",
   "metadata": {},
   "outputs": [],
   "source": []
  },
  {
   "cell_type": "code",
   "execution_count": null,
   "id": "8c5e2c9d",
   "metadata": {},
   "outputs": [],
   "source": []
  },
  {
   "cell_type": "code",
   "execution_count": null,
   "id": "c2f52db9",
   "metadata": {},
   "outputs": [],
   "source": []
  },
  {
   "cell_type": "code",
   "execution_count": null,
   "id": "80a2926b",
   "metadata": {},
   "outputs": [],
   "source": []
  },
  {
   "cell_type": "code",
   "execution_count": null,
   "id": "bc8b219e",
   "metadata": {},
   "outputs": [],
   "source": []
  },
  {
   "cell_type": "code",
   "execution_count": null,
   "id": "5fe2bff5",
   "metadata": {},
   "outputs": [],
   "source": []
  },
  {
   "cell_type": "code",
   "execution_count": null,
   "id": "659134af",
   "metadata": {},
   "outputs": [],
   "source": []
  },
  {
   "cell_type": "code",
   "execution_count": 18,
   "id": "f1fda699",
   "metadata": {},
   "outputs": [],
   "source": [
    "adms[\"admittime\"] = pd.to_datetime(adms.admittime)\n",
    "adms[\"dischtime\"] = pd.to_datetime(adms.dischtime)\n"
   ]
  },
  {
   "cell_type": "code",
   "execution_count": 19,
   "id": "7f2240ae",
   "metadata": {},
   "outputs": [],
   "source": [
    "adms[\"los\"] = adms[\"dischtime\"] - adms[\"admittime\"]"
   ]
  },
  {
   "cell_type": "code",
   "execution_count": 21,
   "id": "895a3f6b",
   "metadata": {},
   "outputs": [],
   "source": [
    "los_count = adms.groupby(adms['los'].dt.days).los.count()"
   ]
  },
  {
   "cell_type": "code",
   "execution_count": 35,
   "id": "392c46da",
   "metadata": {},
   "outputs": [
    {
     "data": {
      "text/html": [
       "<div>\n",
       "<style scoped>\n",
       "    .dataframe tbody tr th:only-of-type {\n",
       "        vertical-align: middle;\n",
       "    }\n",
       "\n",
       "    .dataframe tbody tr th {\n",
       "        vertical-align: top;\n",
       "    }\n",
       "\n",
       "    .dataframe thead th {\n",
       "        text-align: right;\n",
       "    }\n",
       "</style>\n",
       "<table border=\"1\" class=\"dataframe\">\n",
       "  <thead>\n",
       "    <tr style=\"text-align: right;\">\n",
       "      <th></th>\n",
       "      <th>admission_type</th>\n",
       "      <th>admission_location</th>\n",
       "      <th>insurance</th>\n",
       "      <th>marital_status</th>\n",
       "      <th>ethnicity</th>\n",
       "      <th>first_careunit</th>\n",
       "      <th>last_careunit</th>\n",
       "      <th>gender</th>\n",
       "    </tr>\n",
       "  </thead>\n",
       "  <tbody>\n",
       "    <tr>\n",
       "      <th>admission_type</th>\n",
       "      <td>1.00</td>\n",
       "      <td>0.18</td>\n",
       "      <td>0.05</td>\n",
       "      <td>-0.02</td>\n",
       "      <td>-0.03</td>\n",
       "      <td>0.14</td>\n",
       "      <td>0.13</td>\n",
       "      <td>-0.01</td>\n",
       "    </tr>\n",
       "    <tr>\n",
       "      <th>admission_location</th>\n",
       "      <td>0.18</td>\n",
       "      <td>1.00</td>\n",
       "      <td>0.01</td>\n",
       "      <td>0.04</td>\n",
       "      <td>0.02</td>\n",
       "      <td>0.09</td>\n",
       "      <td>0.07</td>\n",
       "      <td>-0.02</td>\n",
       "    </tr>\n",
       "    <tr>\n",
       "      <th>insurance</th>\n",
       "      <td>0.05</td>\n",
       "      <td>0.01</td>\n",
       "      <td>1.00</td>\n",
       "      <td>-0.07</td>\n",
       "      <td>0.09</td>\n",
       "      <td>0.04</td>\n",
       "      <td>0.05</td>\n",
       "      <td>-0.06</td>\n",
       "    </tr>\n",
       "    <tr>\n",
       "      <th>marital_status</th>\n",
       "      <td>-0.02</td>\n",
       "      <td>0.04</td>\n",
       "      <td>-0.07</td>\n",
       "      <td>1.00</td>\n",
       "      <td>0.11</td>\n",
       "      <td>0.06</td>\n",
       "      <td>0.07</td>\n",
       "      <td>0.06</td>\n",
       "    </tr>\n",
       "    <tr>\n",
       "      <th>ethnicity</th>\n",
       "      <td>-0.03</td>\n",
       "      <td>0.02</td>\n",
       "      <td>0.09</td>\n",
       "      <td>0.11</td>\n",
       "      <td>1.00</td>\n",
       "      <td>0.00</td>\n",
       "      <td>0.01</td>\n",
       "      <td>-0.01</td>\n",
       "    </tr>\n",
       "    <tr>\n",
       "      <th>first_careunit</th>\n",
       "      <td>0.14</td>\n",
       "      <td>0.09</td>\n",
       "      <td>0.04</td>\n",
       "      <td>0.06</td>\n",
       "      <td>0.00</td>\n",
       "      <td>1.00</td>\n",
       "      <td>0.89</td>\n",
       "      <td>-0.00</td>\n",
       "    </tr>\n",
       "    <tr>\n",
       "      <th>last_careunit</th>\n",
       "      <td>0.13</td>\n",
       "      <td>0.07</td>\n",
       "      <td>0.05</td>\n",
       "      <td>0.07</td>\n",
       "      <td>0.01</td>\n",
       "      <td>0.89</td>\n",
       "      <td>1.00</td>\n",
       "      <td>-0.01</td>\n",
       "    </tr>\n",
       "    <tr>\n",
       "      <th>gender</th>\n",
       "      <td>-0.01</td>\n",
       "      <td>-0.02</td>\n",
       "      <td>-0.06</td>\n",
       "      <td>0.06</td>\n",
       "      <td>-0.01</td>\n",
       "      <td>-0.00</td>\n",
       "      <td>-0.01</td>\n",
       "      <td>1.00</td>\n",
       "    </tr>\n",
       "  </tbody>\n",
       "</table>\n",
       "</div>"
      ],
      "text/plain": [
       "                    admission_type  admission_location  insurance  \\\n",
       "admission_type                1.00                0.18       0.05   \n",
       "admission_location            0.18                1.00       0.01   \n",
       "insurance                     0.05                0.01       1.00   \n",
       "marital_status               -0.02                0.04      -0.07   \n",
       "ethnicity                    -0.03                0.02       0.09   \n",
       "first_careunit                0.14                0.09       0.04   \n",
       "last_careunit                 0.13                0.07       0.05   \n",
       "gender                       -0.01               -0.02      -0.06   \n",
       "\n",
       "                    marital_status  ethnicity  first_careunit  last_careunit  \\\n",
       "admission_type               -0.02      -0.03            0.14           0.13   \n",
       "admission_location            0.04       0.02            0.09           0.07   \n",
       "insurance                    -0.07       0.09            0.04           0.05   \n",
       "marital_status                1.00       0.11            0.06           0.07   \n",
       "ethnicity                     0.11       1.00            0.00           0.01   \n",
       "first_careunit                0.06       0.00            1.00           0.89   \n",
       "last_careunit                 0.07       0.01            0.89           1.00   \n",
       "gender                        0.06      -0.01           -0.00          -0.01   \n",
       "\n",
       "                    gender  \n",
       "admission_type       -0.01  \n",
       "admission_location   -0.02  \n",
       "insurance            -0.06  \n",
       "marital_status        0.06  \n",
       "ethnicity            -0.01  \n",
       "first_careunit       -0.00  \n",
       "last_careunit        -0.01  \n",
       "gender                1.00  "
      ]
     },
     "execution_count": 35,
     "metadata": {},
     "output_type": "execute_result"
    }
   ],
   "source": [
    "cormat = details.corr()\n",
    "round(cormat,2)"
   ]
  },
  {
   "cell_type": "code",
   "execution_count": 36,
   "id": "9ddcd153",
   "metadata": {},
   "outputs": [
    {
     "data": {
      "image/png": "[encoded data removed]",
      "text/plain": [
       "<Figure size 432x288 with 2 Axes>"
      ]
     },
     "metadata": {
      "needs_background": "light"
     },
     "output_type": "display_data"
    }
   ],
   "source": [
    "import seaborn as sns\n",
    "sns.heatmap(cormat);"
   ]
  },
  {
   "cell_type": "code",
   "execution_count": 37,
   "id": "ac376bf1",
   "metadata": {},
   "outputs": [
    {
     "data": {
      "text/plain": [
       "<seaborn.matrix.ClusterGrid at 0x275e9119b80>"
      ]
     },
     "execution_count": 37,
     "metadata": {},
     "output_type": "execute_result"
    },
    {
     "data": {
      "image/png": "[encoded data removed]",
      "text/plain": [
       "<Figure size 720x720 with 4 Axes>"
      ]
     },
     "metadata": {
      "needs_background": "light"
     },
     "output_type": "display_data"
    }
   ],
   "source": [
    "sns.clustermap(cormat, cmap='RdBu',center=0)"
   ]
  },
  {
   "cell_type": "code",
   "execution_count": null,
   "id": "99329228",
   "metadata": {},
   "outputs": [],
   "source": [
    "items_sort = itemss.sort_values(by=['count(*)'],ascending=False)"
   ]
  },
  {
   "cell_type": "code",
   "execution_count": null,
   "id": "a1db73a3",
   "metadata": {},
   "outputs": [],
   "source": [
    "items_sort_s = items_sort[items_sort['count(*)']<=100]\n",
    "plt.plot(items_sort_s['itemid'],items_sort_s['count(*)'])"
   ]
  },
  {
   "cell_type": "code",
   "execution_count": null,
   "id": "069fb567",
   "metadata": {},
   "outputs": [],
   "source": [
    "plt.plot(items_sort['itemid'],items_sort['count(*)']/100000)"
   ]
  },
  {
   "cell_type": "code",
   "execution_count": null,
   "id": "69a874cb",
   "metadata": {},
   "outputs": [],
   "source": []
  },
  {
   "cell_type": "code",
   "execution_count": null,
   "id": "f63b234d",
   "metadata": {},
   "outputs": [],
   "source": []
  },
  {
   "cell_type": "code",
   "execution_count": null,
   "id": "7a8bcc85",
   "metadata": {},
   "outputs": [],
   "source": []
  },
  {
   "cell_type": "code",
   "execution_count": null,
   "id": "ec0775b7",
   "metadata": {},
   "outputs": [],
   "source": []
  },
  {
   "cell_type": "code",
   "execution_count": null,
   "id": "4c63bf6a",
   "metadata": {},
   "outputs": [],
   "source": []
  },
  {
   "cell_type": "code",
   "execution_count": null,
   "id": "81676acd",
   "metadata": {},
   "outputs": [],
   "source": []
  },
  {
   "cell_type": "code",
   "execution_count": null,
   "id": "2f353430",
   "metadata": {},
   "outputs": [],
   "source": []
  },
  {
   "cell_type": "code",
   "execution_count": null,
   "id": "0861b6a2",
   "metadata": {},
   "outputs": [],
   "source": []
  },
  {
   "cell_type": "code",
   "execution_count": null,
   "id": "9cb17c06",
   "metadata": {},
   "outputs": [],
   "source": []
  },
  {
   "cell_type": "code",
   "execution_count": null,
   "id": "f47231fa",
   "metadata": {},
   "outputs": [],
   "source": []
  }
 ],
 "metadata": {
  "kernelspec": {
   "display_name": "Python 3",
   "language": "python",
   "name": "python3"
  },
  "language_info": {
   "codemirror_mode": {
    "name": "ipython",
    "version": 3
   },
   "file_extension": ".py",
   "mimetype": "text/x-python",
   "name": "python",
   "nbconvert_exporter": "python",
   "pygments_lexer": "ipython3",
   "version": "3.8.8"
  }
 },
 "nbformat": 4,
 "nbformat_minor": 5
}
